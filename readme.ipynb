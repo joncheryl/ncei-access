{
 "cells": [
  {
   "cell_type": "markdown",
   "metadata": {},
   "source": [
    "# NCEI Access API Wrapper\n",
    "\n",
    "Welcome to the `ncei_access` package where you can retrieve and analyze weather data from NOAA's National Centers for Environmental Information (NCEI) Access API! The [official documentation](https://www.ncei.noaa.gov/access-search) from the NCEI is pretty lackluster and there are probably some ways in which they throttle users but who knows! I also have no idea how reliable the API is. Caveat emptor.\n",
    "\n",
    "## Overview\n",
    "\n",
    "The `ncei_access` package provides a convenient interface for:\n",
    "- Finding weather stations by ID, location, or boundaries\n",
    "- Retrieving daily weather data (temperature, snow depth, etc.)\n",
    "- Working with weather station metadata"
   ]
  },
  {
   "cell_type": "markdown",
   "metadata": {},
   "source": [
    "## Installation and Setup\n",
    "\n",
    "First, let's import the necessary packages and create an instance of the NceiAccessor class:"
   ]
  },
  {
   "cell_type": "code",
   "execution_count": 1,
   "metadata": {},
   "outputs": [],
   "source": [
    "# Create an instance of the NceiAccessor class to go weather-data-hunting.\n",
    "from ncei_access import ncei_accessor as na\n",
    "ncei_db = na.NceiAccessor()"
   ]
  },
  {
   "cell_type": "markdown",
   "metadata": {},
   "source": [
    "## Finding Weather Stations\n",
    "\n",
    "### 1. Find Station by ID\n",
    "\n",
    "If you know the station ID, you can directly retrieve station information. In this example, we'll look up the Mill D North station in Big Cottonwood Canyon, Utah (near Salt Lake City)."
   ]
  },
  {
   "cell_type": "code",
   "execution_count": 2,
   "metadata": {},
   "outputs": [
    {
     "name": "stdout",
     "output_type": "stream",
     "text": [
      "Station name: MILL D NORTH, UT US\n",
      "Station ID: USS0011J65S\n",
      "Station latitude: 40.66\n",
      "Station longitude: -111.64\n",
      "Recorded datatypes at station: [{'coverage': 99.33507170795306, 'endDate': '2025-06-21T23:59:59', 'dateRange': {'start': '2004-06-21T00:00:00', 'end': '2025-06-21T23:59:59'}, 'searchWeight': 1, 'id': 'TMAX', 'startDate': '2004-06-21T00:00:00'}, {'coverage': 100.0, 'endDate': '2025-06-21T23:59:59', 'dateRange': {'start': '1988-09-30T00:00:00', 'end': '2025-06-21T23:59:59'}, 'searchWeight': 1, 'id': 'WESD', 'startDate': '1988-09-30T00:00:00'}, {'coverage': 99.29595827900913, 'endDate': '2025-06-21T23:59:59', 'dateRange': {'start': '2004-06-21T00:00:00', 'end': '2025-06-21T23:59:59'}, 'searchWeight': 1, 'id': 'TAVG', 'startDate': '2004-06-21T00:00:00'}, {'coverage': 99.29595827900913, 'endDate': '2025-06-21T23:59:59', 'dateRange': {'start': '2004-06-21T00:00:00', 'end': '2025-06-21T23:59:59'}, 'searchWeight': 1, 'id': 'TMIN', 'startDate': '2004-06-21T00:00:00'}, {'coverage': 100.0, 'endDate': '2025-06-19T23:59:59', 'dateRange': {'start': '1988-10-01T00:00:00', 'end': '2025-06-19T23:59:59'}, 'searchWeight': 1, 'id': 'PRCP', 'startDate': '1988-10-01T00:00:00'}, {'coverage': 99.30899608865711, 'endDate': '2025-06-21T23:59:59', 'dateRange': {'start': '2004-06-21T00:00:00', 'end': '2025-06-21T23:59:59'}, 'searchWeight': 1, 'id': 'TOBS', 'startDate': '2004-06-21T00:00:00'}, {'coverage': 99.88265971316818, 'endDate': '2025-06-21T23:59:59', 'dateRange': {'start': '2004-06-21T00:00:00', 'end': '2025-06-21T23:59:59'}, 'searchWeight': 1, 'id': 'SNWD', 'startDate': '2004-06-21T00:00:00'}]\n",
      "Does station record TMAX data type?: True\n"
     ]
    }
   ],
   "source": [
    "mill_d = ncei_db.find_station(\"USS0011J65S\")\n",
    "\n",
    "print(f\"Station name: {mill_d.name}\")\n",
    "print(f\"Station ID: {mill_d.station_id}\")\n",
    "print(f\"Station latitude: {mill_d.lat}\")\n",
    "print(f\"Station longitude: {mill_d.lon}\")\n",
    "# print(f\"Station elevation: {mill_d.elevation()}\")  # See docs for the hackiness of this method\n",
    "print(f\"Recorded datatypes at station: {mill_d.data_types}\")  # easier to read in a pandas DataFrame\n",
    "print(f\"Does station record TMAX data type?: {mill_d.has_data_type('TMAX')}\")"
   ]
  },
  {
   "cell_type": "markdown",
   "metadata": {},
   "source": [
    "### 2. Find Stations by Geographic Boundaries\n",
    "\n",
    "You can also search for all stations within a specific rectangular area defined by latitude and longitude boundaries. Here we find all stations between latitudes 41°N and 40.5°N and between longitudes -111°W and -110.5°W. This is a rectangle that captures the top of the Mirror Lake Highway in Utah, USA."
   ]
  },
  {
   "cell_type": "code",
   "execution_count": 3,
   "metadata": {},
   "outputs": [
    {
     "name": "stdout",
     "output_type": "stream",
     "text": [
      "Found 13 stations in the specified boundary:\n",
      "Station name: TRIAL LAKE, UT US --- Station ID: USS0010J52S\n",
      "Station name: BURTS MILLER RANCH, UT US --- Station ID: USS0010J06S\n",
      "Station name: BEAR RIVER RANGER STATION, UT US --- Station ID: USS0010J17S\n",
      "Station name: ROCK CREEK, UT US --- Station ID: USS0010J18S\n",
      "Station name: STEEL CREEK PARK, UT US --- Station ID: USS0010J20S\n",
      "Station name: EF BLACKS FORK GS, UT US --- Station ID: USS0010J21S\n",
      "Station name: BLACKS FORK JCT, UT US --- Station ID: USS0010J22S\n",
      "Station name: BUCK PASTURE, UT US --- Station ID: USS0010J23S\n",
      "Station name: BROWN DUCK, UT US --- Station ID: USS0010J30S\n",
      "Station name: LILY LAKE, UT US --- Station ID: USS0010J35S\n",
      "Station name: HAYDEN FORK, UT US --- Station ID: USS0010J44S\n",
      "Station name: BEAR RIVER UTAH, UT US --- Station ID: USR0000BEAR\n",
      "Station name: BLACKS FORK COMMISSARY, UT US --- Station ID: USC00420734\n"
     ]
    }
   ],
   "source": [
    "stations_in_boundary_test = ncei_db.stations_in_boundary(41, -111, 40.5, -110.5)\n",
    "\n",
    "# Returns a list of Station objects, which we can iterate over to see the details.\n",
    "print(f\"Found {len(stations_in_boundary_test)} stations in the specified boundary:\")\n",
    "for station in stations_in_boundary_test:\n",
    "    print(f\"Station name: {station.name} --- Station ID: {station.station_id}\")"
   ]
  },
  {
   "cell_type": "markdown",
   "metadata": {},
   "source": [
    "### 3. Find Closest Station to a Point\n",
    "\n",
    "And, lastly, you can find the weather station closest to any given latitude and longitude. Let's find the closest station to the second highest mountain in Utah, Mt Peale."
   ]
  },
  {
   "cell_type": "code",
   "execution_count": 4,
   "metadata": {},
   "outputs": [
    {
     "name": "stdout",
     "output_type": "stream",
     "text": [
      "Closest station to Mt Peale: LASAL MOUNTAIN, UT US --- Station ID: USS0009L03S\n"
     ]
    }
   ],
   "source": [
    "closest_to_peale = ncei_db.find_closest_station(38.438212, -109.228878)  # Mt Peale, UT\n",
    "print(f\"Closest station to Mt Peale: {closest_to_peale.name} --- Station ID: {closest_to_peale.station_id}\")"
   ]
  },
  {
   "cell_type": "markdown",
   "metadata": {},
   "source": [
    "## Retrieving Weather Data\n",
    "Say we have a station we're interested in and we now want to get some data. For example, the weather station at Mill D North is a SNOTEL site that records daily snow depth (SNWD). Let's get the daily snow depth since January 1, 2023:"
   ]
  },
  {
   "cell_type": "code",
   "execution_count": 5,
   "metadata": {},
   "outputs": [],
   "source": [
    "# Get daily snow depth data\n",
    "mill_d_sd = ncei_db.get_daily(\n",
    "    data_types=[\"SNWD\"],  # Snow depth\n",
    "    stations=mill_d.station_id,  # Station ID\n",
    "    start=\"2023-01-01\",  # Start date for the data\n",
    ")"
   ]
  },
  {
   "cell_type": "markdown",
   "metadata": {},
   "source": [
    "This will return a list of dictionaries, each containing the date and the snow depth for that date. Let's convert this to a pandas DataFrame for easier manipulation:"
   ]
  },
  {
   "cell_type": "code",
   "execution_count": 29,
   "metadata": {},
   "outputs": [
    {
     "name": "stdout",
     "output_type": "stream",
     "text": [
      "| DATE       | STATION     |   SNWD |\n",
      "|:-----------|:------------|-------:|\n",
      "| 2023-01-01 | USS0011J65S |   1829 |\n",
      "| 2023-01-02 | USS0011J65S |   1753 |\n",
      "| 2023-01-03 | USS0011J65S |   1727 |\n",
      "| 2023-01-04 | USS0011J65S |   1676 |\n",
      "| 2023-01-05 | USS0011J65S |   1727 |\n"
     ]
    }
   ],
   "source": [
    "import pandas as pd\n",
    "mill_d_sd_df = pd.DataFrame(mill_d_sd).dropna()\n",
    "print(mill_d_sd_df.head().to_markdown(index=False))"
   ]
  },
  {
   "cell_type": "markdown",
   "metadata": {},
   "source": [
    "### Understanding Data Types and Units\n",
    "\n",
    "Great! But what the hell are the units? We can look up the data type reference to find out. The data type reference is a dictionary that maps data type IDs to their names and units."
   ]
  },
  {
   "cell_type": "code",
   "execution_count": 7,
   "metadata": {},
   "outputs": [
    {
     "name": "stdout",
     "output_type": "stream",
     "text": [
      "{'id': 'SNWD', 'name': 'Snow depth (mm)', 'units': 'millimeters', 'metric_output_units': 'millimeters', 'metric_output_precision': 1, 'standard_output_units': 'inches', 'standard_output_precision': 1, 'scale_factor': 1, 'scale_weight': None}\n"
     ]
    }
   ],
   "source": [
    "from ncei_access import dataType_ref\n",
    "print(dataType_ref[\"SNWD\"].__dict__)"
   ]
  },
  {
   "cell_type": "markdown",
   "metadata": {},
   "source": [
    "This shows us that the units are in millimeters (mm) and that the scale factor is 1 which means the values are in mm directly. Let's convert the date column to a datetime format and the snow depth to a float."
   ]
  },
  {
   "cell_type": "code",
   "execution_count": 33,
   "metadata": {},
   "outputs": [
    {
     "name": "stdout",
     "output_type": "stream",
     "text": [
      "| DATE                | STATION     |   SNWD |\n",
      "|:--------------------|:------------|-------:|\n",
      "| 2023-01-01 00:00:00 | USS0011J65S |  18.29 |\n",
      "| 2023-01-02 00:00:00 | USS0011J65S |  17.53 |\n",
      "| 2023-01-03 00:00:00 | USS0011J65S |  17.27 |\n",
      "| 2023-01-04 00:00:00 | USS0011J65S |  16.76 |\n",
      "| 2023-01-05 00:00:00 | USS0011J65S |  17.27 |\n"
     ]
    }
   ],
   "source": [
    "mill_d_sd_df = mill_d_sd_df.astype({\"DATE\": \"datetime64[s]\", \"SNWD\": float})\n",
    "mill_d_sd_df[\"SNWD\"] = mill_d_sd_df[\"SNWD\"] / 10  # Convert from mm to cm\n",
    "print(mill_d_sd_df.head().to_markdown(index=False))"
   ]
  },
  {
   "cell_type": "markdown",
   "metadata": {},
   "source": [
    "### Getting Daily High and Low Temperatures\n",
    "\n",
    "I created this API wrapper because I was most interested in daily high and low temperatures. So I created a convenience function to get daily high and low temperatures for a specific station. Let's use the station we found earlier, Mill D North, and get the daily high and low temperatures since January 1, 2023:"
   ]
  },
  {
   "cell_type": "code",
   "execution_count": 34,
   "metadata": {},
   "outputs": [
    {
     "name": "stdout",
     "output_type": "stream",
     "text": [
      "| DATE       | STATION     |   TMAX |   TMIN |\n",
      "|:-----------|:------------|-------:|-------:|\n",
      "| 2023-01-01 | USS0011J65S |     -1 |    -81 |\n",
      "| 2023-01-02 | USS0011J65S |    -53 |   -101 |\n",
      "| 2023-01-03 | USS0011J65S |    -55 |   -111 |\n",
      "| 2023-01-04 | USS0011J65S |     -3 |   -111 |\n",
      "| 2023-01-05 | USS0011J65S |    -10 |    -57 |\n"
     ]
    }
   ],
   "source": [
    "mill_d_hilow = ncei_db.get_daily_hilow(\n",
    "    stations=mill_d.station_id,  # Station ID\n",
    "    start=\"2023-01-01\",  # Start date for the data\n",
    ")\n",
    "\n",
    "# Convert to pandas DataFrame for easier manipulation\n",
    "mill_d_hilow_df = pd.DataFrame(mill_d_hilow).dropna()\n",
    "print(mill_d_hilow_df.head().to_markdown(index=False))"
   ]
  },
  {
   "cell_type": "markdown",
   "metadata": {},
   "source": [
    "### Understanding Temperature Data Units\n",
    "\n",
    "Looking at the TMAX and TMIN columns, we can see that the range of temperatures is not what we would expect (daily minimums of -111\\deg???). Let's inspect the data type reference for TMAX and TMIN to see what it has to say:"
   ]
  },
  {
   "cell_type": "code",
   "execution_count": 10,
   "metadata": {},
   "outputs": [
    {
     "name": "stdout",
     "output_type": "stream",
     "text": [
      "Daily maximum temperature (TMAX) data type reference:\n",
      "{'id': 'TMAX', 'name': 'Maximum temperature (tenths of degrees C)', 'units': 'celsius', 'metric_output_units': 'celsius', 'metric_output_precision': 1, 'standard_output_units': 'fahrenheit', 'standard_output_precision': 0, 'scale_factor': 0.1, 'scale_weight': None}\n",
      "\n",
      "Daily minimum temperature (TMIN) data type reference:\n",
      "{'id': 'TMIN', 'name': 'Minimum temperature (tenths of degrees C)', 'units': 'celsius', 'metric_output_units': 'celsius', 'metric_output_precision': 1, 'standard_output_units': 'fahrenheit', 'standard_output_precision': 0, 'scale_factor': 0.1, 'scale_weight': None}\n"
     ]
    }
   ],
   "source": [
    "print(\"Daily maximum temperature (TMAX) data type reference:\")\n",
    "print(dataType_ref[\"TMAX\"].__dict__)\n",
    "print(\"\\nDaily minimum temperature (TMIN) data type reference:\")\n",
    "print(dataType_ref[\"TMIN\"].__dict__)"
   ]
  },
  {
   "cell_type": "markdown",
   "metadata": {},
   "source": [
    "Note that the scale factor is 0.1 for both TMAX and TMIN, which means the values are actually in tenths of degrees Celsius. Let's convert the TMAX and TMIN columns to float and then divide by 10 to get the actual temperatures in degrees Celsius:"
   ]
  },
  {
   "cell_type": "code",
   "execution_count": 32,
   "metadata": {},
   "outputs": [
    {
     "name": "stdout",
     "output_type": "stream",
     "text": [
      "| DATE                | STATION     |   TMAX |   TMIN |\n",
      "|:--------------------|:------------|-------:|-------:|\n",
      "| 2023-01-01 00:00:00 | USS0011J65S |   -0.1 |   -8.1 |\n",
      "| 2023-01-02 00:00:00 | USS0011J65S |   -5.3 |  -10.1 |\n",
      "| 2023-01-03 00:00:00 | USS0011J65S |   -5.5 |  -11.1 |\n",
      "| 2023-01-04 00:00:00 | USS0011J65S |   -0.3 |  -11.1 |\n",
      "| 2023-01-05 00:00:00 | USS0011J65S |   -1   |   -5.7 |\n"
     ]
    }
   ],
   "source": [
    "mill_d_hilow_df = mill_d_hilow_df.astype(\n",
    "    {\"DATE\": \"datetime64[s]\", \"TMAX\": float, \"TMIN\": float}\n",
    ")\n",
    "mill_d_hilow_df[\"TMAX\"] = mill_d_hilow_df[\"TMAX\"] / 10\n",
    "mill_d_hilow_df[\"TMIN\"] = mill_d_hilow_df[\"TMIN\"] / 10\n",
    "print(mill_d_hilow_df.head().to_markdown(index=False))"
   ]
  },
  {
   "cell_type": "markdown",
   "metadata": {},
   "source": [
    "### Plotting Temperature Data\n",
    "\n",
    "Those values make more sense now. Let's plot the daily high and low temperatures using Plotly Express."
   ]
  },
  {
   "cell_type": "code",
   "execution_count": 12,
   "metadata": {},
   "outputs": [
    {
     "data": {
      "application/vnd.plotly.v1+json": {
       "config": {
        "plotlyServerURL": "https://plot.ly"
       },
       "data": [
        {
         "hovertemplate": "Temperature Type=TMIN<br>DATE=%{x}<br>Temperature (°C)=%{y}<extra></extra>",
         "legendgroup": "TMIN",
         "line": {
          "color": "#636efa",
          "dash": "solid"
         },
         "marker": {
          "symbol": "circle"
         },
         "mode": "lines",
         "name": "TMIN",
         "showlegend": true,
         "type": "scattergl",
         "x": [
          "2023-01-01T00:00:00",
          "2023-01-02T00:00:00",
          "2023-01-03T00:00:00",
          "2023-01-04T00:00:00",
          "2023-01-05T00:00:00",
          "2023-01-06T00:00:00",
          "2023-01-07T00:00:00",
          "2023-01-08T00:00:00",
          "2023-01-09T00:00:00",
          "2023-01-10T00:00:00",
          "2023-01-11T00:00:00",
          "2023-01-12T00:00:00",
          "2023-01-13T00:00:00",
          "2023-01-14T00:00:00",
          "2023-01-15T00:00:00",
          "2023-01-16T00:00:00",
          "2023-01-17T00:00:00",
          "2023-01-18T00:00:00",
          "2023-01-19T00:00:00",
          "2023-01-20T00:00:00",
          "2023-01-21T00:00:00",
          "2023-01-22T00:00:00",
          "2023-01-23T00:00:00",
          "2023-01-24T00:00:00",
          "2023-01-25T00:00:00",
          "2023-01-26T00:00:00",
          "2023-01-27T00:00:00",
          "2023-01-28T00:00:00",
          "2023-01-29T00:00:00",
          "2023-01-30T00:00:00",
          "2023-01-31T00:00:00",
          "2023-02-01T00:00:00",
          "2023-02-02T00:00:00",
          "2023-02-03T00:00:00",
          "2023-02-04T00:00:00",
          "2023-02-05T00:00:00",
          "2023-02-06T00:00:00",
          "2023-02-07T00:00:00",
          "2023-02-08T00:00:00",
          "2023-02-09T00:00:00",
          "2023-02-10T00:00:00",
          "2023-02-11T00:00:00",
          "2023-02-12T00:00:00",
          "2023-02-13T00:00:00",
          "2023-02-14T00:00:00",
          "2023-02-15T00:00:00",
          "2023-02-16T00:00:00",
          "2023-02-17T00:00:00",
          "2023-02-18T00:00:00",
          "2023-02-19T00:00:00",
          "2023-02-20T00:00:00",
          "2023-02-21T00:00:00",
          "2023-02-22T00:00:00",
          "2023-02-23T00:00:00",
          "2023-02-24T00:00:00",
          "2023-02-25T00:00:00",
          "2023-02-26T00:00:00",
          "2023-02-27T00:00:00",
          "2023-02-28T00:00:00",
          "2023-03-01T00:00:00",
          "2023-03-02T00:00:00",
          "2023-03-03T00:00:00",
          "2023-03-04T00:00:00",
          "2023-03-05T00:00:00",
          "2023-03-06T00:00:00",
          "2023-03-07T00:00:00",
          "2023-03-08T00:00:00",
          "2023-03-09T00:00:00",
          "2023-03-10T00:00:00",
          "2023-03-11T00:00:00",
          "2023-03-12T00:00:00",
          "2023-03-13T00:00:00",
          "2023-03-14T00:00:00",
          "2023-03-15T00:00:00",
          "2023-03-16T00:00:00",
          "2023-03-17T00:00:00",
          "2023-03-18T00:00:00",
          "2023-03-19T00:00:00",
          "2023-03-20T00:00:00",
          "2023-03-21T00:00:00",
          "2023-03-22T00:00:00",
          "2023-03-23T00:00:00",
          "2023-03-24T00:00:00",
          "2023-03-25T00:00:00",
          "2023-03-26T00:00:00",
          "2023-03-27T00:00:00",
          "2023-03-28T00:00:00",
          "2023-03-29T00:00:00",
          "2023-03-30T00:00:00",
          "2023-03-31T00:00:00",
          "2023-04-01T00:00:00",
          "2023-04-02T00:00:00",
          "2023-04-03T00:00:00",
          "2023-04-04T00:00:00",
          "2023-04-05T00:00:00",
          "2023-04-06T00:00:00",
          "2023-04-07T00:00:00",
          "2023-04-08T00:00:00",
          "2023-04-09T00:00:00",
          "2023-04-10T00:00:00",
          "2023-04-11T00:00:00",
          "2023-04-12T00:00:00",
          "2023-04-13T00:00:00",
          "2023-04-14T00:00:00",
          "2023-04-15T00:00:00",
          "2023-04-16T00:00:00",
          "2023-04-17T00:00:00",
          "2023-04-18T00:00:00",
          "2023-04-19T00:00:00",
          "2023-04-20T00:00:00",
          "2023-04-21T00:00:00",
          "2023-04-22T00:00:00",
          "2023-04-23T00:00:00",
          "2023-04-24T00:00:00",
          "2023-04-25T00:00:00",
          "2023-04-26T00:00:00",
          "2023-04-27T00:00:00",
          "2023-04-28T00:00:00",
          "2023-04-29T00:00:00",
          "2023-04-30T00:00:00",
          "2023-05-01T00:00:00",
          "2023-05-02T00:00:00",
          "2023-05-03T00:00:00",
          "2023-05-04T00:00:00",
          "2023-05-05T00:00:00",
          "2023-05-06T00:00:00",
          "2023-05-07T00:00:00",
          "2023-05-08T00:00:00",
          "2023-05-09T00:00:00",
          "2023-05-10T00:00:00",
          "2023-05-11T00:00:00",
          "2023-05-12T00:00:00",
          "2023-05-13T00:00:00",
          "2023-05-14T00:00:00",
          "2023-05-15T00:00:00",
          "2023-05-16T00:00:00",
          "2023-05-17T00:00:00",
          "2023-05-18T00:00:00",
          "2023-05-19T00:00:00",
          "2023-05-20T00:00:00",
          "2023-05-21T00:00:00",
          "2023-05-22T00:00:00",
          "2023-05-23T00:00:00",
          "2023-05-24T00:00:00",
          "2023-05-25T00:00:00",
          "2023-05-26T00:00:00",
          "2023-05-27T00:00:00",
          "2023-05-28T00:00:00",
          "2023-05-29T00:00:00",
          "2023-05-30T00:00:00",
          "2023-05-31T00:00:00",
          "2023-06-01T00:00:00",
          "2023-06-02T00:00:00",
          "2023-06-03T00:00:00",
          "2023-06-04T00:00:00",
          "2023-06-05T00:00:00",
          "2023-06-06T00:00:00",
          "2023-06-07T00:00:00",
          "2023-06-08T00:00:00",
          "2023-06-09T00:00:00",
          "2023-06-10T00:00:00",
          "2023-06-11T00:00:00",
          "2023-06-12T00:00:00",
          "2023-06-13T00:00:00",
          "2023-06-14T00:00:00",
          "2023-06-15T00:00:00",
          "2023-06-16T00:00:00",
          "2023-06-17T00:00:00",
          "2023-06-18T00:00:00",
          "2023-06-19T00:00:00",
          "2023-06-20T00:00:00",
          "2023-06-21T00:00:00",
          "2023-06-22T00:00:00",
          "2023-06-23T00:00:00",
          "2023-06-24T00:00:00",
          "2023-06-25T00:00:00",
          "2023-06-26T00:00:00",
          "2023-06-27T00:00:00",
          "2023-06-28T00:00:00",
          "2023-06-29T00:00:00",
          "2023-06-30T00:00:00",
          "2023-07-01T00:00:00",
          "2023-07-02T00:00:00",
          "2023-07-03T00:00:00",
          "2023-07-04T00:00:00",
          "2023-07-05T00:00:00",
          "2023-07-06T00:00:00",
          "2023-07-07T00:00:00",
          "2023-07-08T00:00:00",
          "2023-07-09T00:00:00",
          "2023-07-10T00:00:00",
          "2023-07-11T00:00:00",
          "2023-07-12T00:00:00",
          "2023-07-13T00:00:00",
          "2023-07-14T00:00:00",
          "2023-07-15T00:00:00",
          "2023-07-16T00:00:00",
          "2023-07-17T00:00:00",
          "2023-07-18T00:00:00",
          "2023-07-19T00:00:00",
          "2023-07-20T00:00:00",
          "2023-07-21T00:00:00",
          "2023-07-22T00:00:00",
          "2023-07-23T00:00:00",
          "2023-07-24T00:00:00",
          "2023-07-25T00:00:00",
          "2023-07-26T00:00:00",
          "2023-07-27T00:00:00",
          "2023-07-28T00:00:00",
          "2023-07-29T00:00:00",
          "2023-07-30T00:00:00",
          "2023-07-31T00:00:00",
          "2023-08-01T00:00:00",
          "2023-08-02T00:00:00",
          "2023-08-03T00:00:00",
          "2023-08-04T00:00:00",
          "2023-08-05T00:00:00",
          "2023-08-06T00:00:00",
          "2023-08-07T00:00:00",
          "2023-08-08T00:00:00",
          "2023-08-09T00:00:00",
          "2023-08-10T00:00:00",
          "2023-08-11T00:00:00",
          "2023-08-12T00:00:00",
          "2023-08-13T00:00:00",
          "2023-08-14T00:00:00",
          "2023-08-15T00:00:00",
          "2023-08-16T00:00:00",
          "2023-08-17T00:00:00",
          "2023-08-18T00:00:00",
          "2023-08-19T00:00:00",
          "2023-08-20T00:00:00",
          "2023-08-21T00:00:00",
          "2023-08-22T00:00:00",
          "2023-08-23T00:00:00",
          "2023-08-24T00:00:00",
          "2023-08-25T00:00:00",
          "2023-08-26T00:00:00",
          "2023-08-27T00:00:00",
          "2023-08-28T00:00:00",
          "2023-08-29T00:00:00",
          "2023-08-30T00:00:00",
          "2023-08-31T00:00:00",
          "2023-09-01T00:00:00",
          "2023-09-02T00:00:00",
          "2023-09-03T00:00:00",
          "2023-09-04T00:00:00",
          "2023-09-05T00:00:00",
          "2023-09-06T00:00:00",
          "2023-09-07T00:00:00",
          "2023-09-08T00:00:00",
          "2023-09-09T00:00:00",
          "2023-09-10T00:00:00",
          "2023-09-11T00:00:00",
          "2023-09-12T00:00:00",
          "2023-09-13T00:00:00",
          "2023-09-14T00:00:00",
          "2023-09-15T00:00:00",
          "2023-09-16T00:00:00",
          "2023-09-17T00:00:00",
          "2023-09-18T00:00:00",
          "2023-09-19T00:00:00",
          "2023-09-20T00:00:00",
          "2023-09-21T00:00:00",
          "2023-09-22T00:00:00",
          "2023-09-23T00:00:00",
          "2023-09-24T00:00:00",
          "2023-09-25T00:00:00",
          "2023-09-26T00:00:00",
          "2023-09-27T00:00:00",
          "2023-09-28T00:00:00",
          "2023-09-29T00:00:00",
          "2023-09-30T00:00:00",
          "2023-10-01T00:00:00",
          "2023-10-02T00:00:00",
          "2023-10-03T00:00:00",
          "2023-10-04T00:00:00",
          "2023-10-05T00:00:00",
          "2023-10-06T00:00:00",
          "2023-10-07T00:00:00",
          "2023-10-08T00:00:00",
          "2023-10-09T00:00:00",
          "2023-10-10T00:00:00",
          "2023-10-11T00:00:00",
          "2023-10-12T00:00:00",
          "2023-10-13T00:00:00",
          "2023-10-14T00:00:00",
          "2023-10-15T00:00:00",
          "2023-10-16T00:00:00",
          "2023-10-17T00:00:00",
          "2023-10-18T00:00:00",
          "2023-10-19T00:00:00",
          "2023-10-20T00:00:00",
          "2023-10-21T00:00:00",
          "2023-10-22T00:00:00",
          "2023-10-23T00:00:00",
          "2023-10-24T00:00:00",
          "2023-10-25T00:00:00",
          "2023-10-26T00:00:00",
          "2023-10-27T00:00:00",
          "2023-10-28T00:00:00",
          "2023-10-29T00:00:00",
          "2023-10-30T00:00:00",
          "2023-10-31T00:00:00",
          "2023-11-01T00:00:00",
          "2023-11-02T00:00:00",
          "2023-11-03T00:00:00",
          "2023-11-04T00:00:00",
          "2023-11-05T00:00:00",
          "2023-11-06T00:00:00",
          "2023-11-07T00:00:00",
          "2023-11-08T00:00:00",
          "2023-11-09T00:00:00",
          "2023-11-10T00:00:00",
          "2023-11-11T00:00:00",
          "2023-11-12T00:00:00",
          "2023-11-13T00:00:00",
          "2023-11-14T00:00:00",
          "2023-11-15T00:00:00",
          "2023-11-16T00:00:00",
          "2023-11-17T00:00:00",
          "2023-11-18T00:00:00",
          "2023-11-19T00:00:00",
          "2023-11-20T00:00:00",
          "2023-11-21T00:00:00",
          "2023-11-22T00:00:00",
          "2023-11-23T00:00:00",
          "2023-11-24T00:00:00",
          "2023-11-25T00:00:00",
          "2023-11-26T00:00:00",
          "2023-11-27T00:00:00",
          "2023-11-28T00:00:00",
          "2023-11-29T00:00:00",
          "2023-11-30T00:00:00",
          "2023-12-01T00:00:00",
          "2023-12-02T00:00:00",
          "2023-12-03T00:00:00",
          "2023-12-04T00:00:00",
          "2023-12-05T00:00:00",
          "2023-12-06T00:00:00",
          "2023-12-07T00:00:00",
          "2023-12-08T00:00:00",
          "2023-12-09T00:00:00",
          "2023-12-10T00:00:00",
          "2023-12-11T00:00:00",
          "2023-12-12T00:00:00",
          "2023-12-13T00:00:00",
          "2023-12-14T00:00:00",
          "2023-12-15T00:00:00",
          "2023-12-16T00:00:00",
          "2023-12-17T00:00:00",
          "2023-12-18T00:00:00",
          "2023-12-19T00:00:00",
          "2023-12-20T00:00:00",
          "2023-12-21T00:00:00",
          "2023-12-22T00:00:00",
          "2023-12-23T00:00:00",
          "2023-12-24T00:00:00",
          "2023-12-25T00:00:00",
          "2023-12-26T00:00:00",
          "2023-12-27T00:00:00",
          "2023-12-28T00:00:00",
          "2023-12-29T00:00:00",
          "2023-12-30T00:00:00",
          "2023-12-31T00:00:00",
          "2024-01-01T00:00:00",
          "2024-01-02T00:00:00",
          "2024-01-03T00:00:00",
          "2024-01-04T00:00:00",
          "2024-01-05T00:00:00",
          "2024-01-06T00:00:00",
          "2024-01-07T00:00:00",
          "2024-01-08T00:00:00",
          "2024-01-09T00:00:00",
          "2024-01-10T00:00:00",
          "2024-01-11T00:00:00",
          "2024-01-12T00:00:00",
          "2024-01-13T00:00:00",
          "2024-01-14T00:00:00",
          "2024-01-15T00:00:00",
          "2024-01-16T00:00:00",
          "2024-01-17T00:00:00",
          "2024-01-18T00:00:00",
          "2024-01-19T00:00:00",
          "2024-01-20T00:00:00",
          "2024-01-21T00:00:00",
          "2024-01-22T00:00:00",
          "2024-01-23T00:00:00",
          "2024-01-24T00:00:00",
          "2024-01-25T00:00:00",
          "2024-01-26T00:00:00",
          "2024-01-27T00:00:00",
          "2024-01-28T00:00:00",
          "2024-01-29T00:00:00",
          "2024-01-30T00:00:00",
          "2024-01-31T00:00:00",
          "2024-02-01T00:00:00",
          "2024-02-02T00:00:00",
          "2024-02-03T00:00:00",
          "2024-02-04T00:00:00",
          "2024-02-05T00:00:00",
          "2024-02-06T00:00:00",
          "2024-02-07T00:00:00",
          "2024-02-08T00:00:00",
          "2024-02-09T00:00:00",
          "2024-02-10T00:00:00",
          "2024-02-11T00:00:00",
          "2024-02-12T00:00:00",
          "2024-02-13T00:00:00",
          "2024-02-14T00:00:00",
          "2024-02-15T00:00:00",
          "2024-02-16T00:00:00",
          "2024-02-17T00:00:00",
          "2024-02-18T00:00:00",
          "2024-02-19T00:00:00",
          "2024-02-20T00:00:00",
          "2024-02-21T00:00:00",
          "2024-02-22T00:00:00",
          "2024-02-23T00:00:00",
          "2024-02-24T00:00:00",
          "2024-02-25T00:00:00",
          "2024-02-26T00:00:00",
          "2024-02-27T00:00:00",
          "2024-02-28T00:00:00",
          "2024-02-29T00:00:00",
          "2024-03-01T00:00:00",
          "2024-03-02T00:00:00",
          "2024-03-03T00:00:00",
          "2024-03-04T00:00:00",
          "2024-03-05T00:00:00",
          "2024-03-06T00:00:00",
          "2024-03-07T00:00:00",
          "2024-03-08T00:00:00",
          "2024-03-09T00:00:00",
          "2024-03-10T00:00:00",
          "2024-03-11T00:00:00",
          "2024-03-12T00:00:00",
          "2024-03-13T00:00:00",
          "2024-03-14T00:00:00",
          "2024-03-15T00:00:00",
          "2024-03-16T00:00:00",
          "2024-03-17T00:00:00",
          "2024-03-18T00:00:00",
          "2024-03-19T00:00:00",
          "2024-03-20T00:00:00",
          "2024-03-21T00:00:00",
          "2024-03-22T00:00:00",
          "2024-03-23T00:00:00",
          "2024-03-24T00:00:00",
          "2024-03-25T00:00:00",
          "2024-03-26T00:00:00",
          "2024-03-27T00:00:00",
          "2024-03-28T00:00:00",
          "2024-03-29T00:00:00",
          "2024-03-30T00:00:00",
          "2024-03-31T00:00:00",
          "2024-04-01T00:00:00",
          "2024-04-02T00:00:00",
          "2024-04-03T00:00:00",
          "2024-04-04T00:00:00",
          "2024-04-05T00:00:00",
          "2024-04-06T00:00:00",
          "2024-04-07T00:00:00",
          "2024-04-08T00:00:00",
          "2024-04-09T00:00:00",
          "2024-04-10T00:00:00",
          "2024-04-11T00:00:00",
          "2024-04-12T00:00:00",
          "2024-04-13T00:00:00",
          "2024-04-14T00:00:00",
          "2024-04-15T00:00:00",
          "2024-04-16T00:00:00",
          "2024-04-17T00:00:00",
          "2024-04-18T00:00:00",
          "2024-04-19T00:00:00",
          "2024-04-20T00:00:00",
          "2024-04-21T00:00:00",
          "2024-04-22T00:00:00",
          "2024-04-23T00:00:00",
          "2024-04-24T00:00:00",
          "2024-04-25T00:00:00",
          "2024-04-26T00:00:00",
          "2024-04-27T00:00:00",
          "2024-04-28T00:00:00",
          "2024-04-29T00:00:00",
          "2024-04-30T00:00:00",
          "2024-05-01T00:00:00",
          "2024-05-02T00:00:00",
          "2024-05-03T00:00:00",
          "2024-05-04T00:00:00",
          "2024-05-05T00:00:00",
          "2024-05-06T00:00:00",
          "2024-05-07T00:00:00",
          "2024-05-08T00:00:00",
          "2024-05-09T00:00:00",
          "2024-05-10T00:00:00",
          "2024-05-11T00:00:00",
          "2024-05-12T00:00:00",
          "2024-05-13T00:00:00",
          "2024-05-14T00:00:00",
          "2024-05-15T00:00:00",
          "2024-05-16T00:00:00",
          "2024-05-17T00:00:00",
          "2024-05-18T00:00:00",
          "2024-05-19T00:00:00",
          "2024-05-20T00:00:00",
          "2024-05-21T00:00:00",
          "2024-05-22T00:00:00",
          "2024-05-23T00:00:00",
          "2024-05-24T00:00:00",
          "2024-05-25T00:00:00",
          "2024-05-26T00:00:00",
          "2024-05-27T00:00:00",
          "2024-05-28T00:00:00",
          "2024-05-29T00:00:00",
          "2024-05-30T00:00:00",
          "2024-05-31T00:00:00",
          "2024-06-01T00:00:00",
          "2024-06-02T00:00:00",
          "2024-06-03T00:00:00",
          "2024-06-04T00:00:00",
          "2024-06-05T00:00:00",
          "2024-06-06T00:00:00",
          "2024-06-07T00:00:00",
          "2024-06-08T00:00:00",
          "2024-06-09T00:00:00",
          "2024-06-10T00:00:00",
          "2024-06-11T00:00:00",
          "2024-06-12T00:00:00",
          "2024-06-13T00:00:00",
          "2024-06-14T00:00:00",
          "2024-06-15T00:00:00",
          "2024-06-16T00:00:00",
          "2024-06-17T00:00:00",
          "2024-06-18T00:00:00",
          "2024-06-19T00:00:00",
          "2024-06-20T00:00:00",
          "2024-06-21T00:00:00",
          "2024-06-22T00:00:00",
          "2024-06-23T00:00:00",
          "2024-06-24T00:00:00",
          "2024-06-25T00:00:00",
          "2024-06-26T00:00:00",
          "2024-06-27T00:00:00",
          "2024-06-28T00:00:00",
          "2024-06-29T00:00:00",
          "2024-06-30T00:00:00",
          "2024-07-01T00:00:00",
          "2024-07-02T00:00:00",
          "2024-07-03T00:00:00",
          "2024-07-04T00:00:00",
          "2024-07-05T00:00:00",
          "2024-07-06T00:00:00",
          "2024-07-07T00:00:00",
          "2024-07-08T00:00:00",
          "2024-07-09T00:00:00",
          "2024-07-10T00:00:00",
          "2024-07-11T00:00:00",
          "2024-07-12T00:00:00",
          "2024-07-13T00:00:00",
          "2024-07-14T00:00:00",
          "2024-07-15T00:00:00",
          "2024-07-16T00:00:00",
          "2024-07-17T00:00:00",
          "2024-07-18T00:00:00",
          "2024-07-19T00:00:00",
          "2024-07-20T00:00:00",
          "2024-07-21T00:00:00",
          "2024-07-22T00:00:00",
          "2024-07-23T00:00:00",
          "2024-07-24T00:00:00",
          "2024-07-25T00:00:00",
          "2024-07-26T00:00:00",
          "2024-07-27T00:00:00",
          "2024-07-28T00:00:00",
          "2024-07-29T00:00:00",
          "2024-07-30T00:00:00",
          "2024-07-31T00:00:00",
          "2024-08-01T00:00:00",
          "2024-08-02T00:00:00",
          "2024-08-03T00:00:00",
          "2024-08-04T00:00:00",
          "2024-08-05T00:00:00",
          "2024-08-06T00:00:00",
          "2024-08-07T00:00:00",
          "2024-08-08T00:00:00",
          "2024-08-09T00:00:00",
          "2024-08-10T00:00:00",
          "2024-08-11T00:00:00",
          "2024-08-12T00:00:00",
          "2024-08-13T00:00:00",
          "2024-08-14T00:00:00",
          "2024-08-15T00:00:00",
          "2024-08-16T00:00:00",
          "2024-08-17T00:00:00",
          "2024-08-18T00:00:00",
          "2024-08-19T00:00:00",
          "2024-08-20T00:00:00",
          "2024-08-21T00:00:00",
          "2024-08-22T00:00:00",
          "2024-08-23T00:00:00",
          "2024-08-24T00:00:00",
          "2024-08-25T00:00:00",
          "2024-08-26T00:00:00",
          "2024-08-27T00:00:00",
          "2024-08-28T00:00:00",
          "2024-08-29T00:00:00",
          "2024-08-30T00:00:00",
          "2024-08-31T00:00:00",
          "2024-09-01T00:00:00",
          "2024-09-02T00:00:00",
          "2024-09-03T00:00:00",
          "2024-09-04T00:00:00",
          "2024-09-05T00:00:00",
          "2024-09-06T00:00:00",
          "2024-09-07T00:00:00",
          "2024-09-08T00:00:00",
          "2024-09-09T00:00:00",
          "2024-09-10T00:00:00",
          "2024-09-11T00:00:00",
          "2024-09-12T00:00:00",
          "2024-09-13T00:00:00",
          "2024-09-14T00:00:00",
          "2024-09-15T00:00:00",
          "2024-09-16T00:00:00",
          "2024-09-17T00:00:00",
          "2024-09-18T00:00:00",
          "2024-09-19T00:00:00",
          "2024-09-20T00:00:00",
          "2024-09-21T00:00:00",
          "2024-09-22T00:00:00",
          "2024-09-23T00:00:00",
          "2024-09-24T00:00:00",
          "2024-09-25T00:00:00",
          "2024-09-26T00:00:00",
          "2024-09-27T00:00:00",
          "2024-09-28T00:00:00",
          "2024-09-29T00:00:00",
          "2024-09-30T00:00:00",
          "2024-10-01T00:00:00",
          "2024-10-02T00:00:00",
          "2024-10-03T00:00:00",
          "2024-10-04T00:00:00",
          "2024-10-05T00:00:00",
          "2024-10-06T00:00:00",
          "2024-10-07T00:00:00",
          "2024-10-08T00:00:00",
          "2024-10-09T00:00:00",
          "2024-10-10T00:00:00",
          "2024-10-11T00:00:00",
          "2024-10-12T00:00:00",
          "2024-10-13T00:00:00",
          "2024-10-14T00:00:00",
          "2024-10-15T00:00:00",
          "2024-10-16T00:00:00",
          "2024-10-17T00:00:00",
          "2024-10-18T00:00:00",
          "2024-10-19T00:00:00",
          "2024-10-20T00:00:00",
          "2024-10-21T00:00:00",
          "2024-10-22T00:00:00",
          "2024-10-23T00:00:00",
          "2024-10-24T00:00:00",
          "2024-10-25T00:00:00",
          "2024-10-26T00:00:00",
          "2024-10-27T00:00:00",
          "2024-10-28T00:00:00",
          "2024-10-29T00:00:00",
          "2024-10-30T00:00:00",
          "2024-10-31T00:00:00",
          "2024-11-01T00:00:00",
          "2024-11-02T00:00:00",
          "2024-11-03T00:00:00",
          "2024-11-04T00:00:00",
          "2024-11-05T00:00:00",
          "2024-11-06T00:00:00",
          "2024-11-07T00:00:00",
          "2024-11-08T00:00:00",
          "2024-11-09T00:00:00",
          "2024-11-10T00:00:00",
          "2024-11-11T00:00:00",
          "2024-11-12T00:00:00",
          "2024-11-13T00:00:00",
          "2024-11-14T00:00:00",
          "2024-11-15T00:00:00",
          "2024-11-16T00:00:00",
          "2024-11-17T00:00:00",
          "2024-11-18T00:00:00",
          "2024-11-19T00:00:00",
          "2024-11-20T00:00:00",
          "2024-11-21T00:00:00",
          "2024-11-22T00:00:00",
          "2024-11-23T00:00:00",
          "2024-11-24T00:00:00",
          "2024-11-25T00:00:00",
          "2024-11-26T00:00:00",
          "2024-11-27T00:00:00",
          "2024-11-28T00:00:00",
          "2024-11-29T00:00:00",
          "2024-11-30T00:00:00",
          "2024-12-01T00:00:00",
          "2024-12-02T00:00:00",
          "2024-12-03T00:00:00",
          "2024-12-04T00:00:00",
          "2024-12-05T00:00:00",
          "2024-12-06T00:00:00",
          "2024-12-07T00:00:00",
          "2024-12-08T00:00:00",
          "2024-12-09T00:00:00",
          "2024-12-10T00:00:00",
          "2024-12-11T00:00:00",
          "2024-12-12T00:00:00",
          "2024-12-13T00:00:00",
          "2024-12-14T00:00:00",
          "2024-12-15T00:00:00",
          "2024-12-16T00:00:00",
          "2024-12-17T00:00:00",
          "2024-12-18T00:00:00",
          "2024-12-19T00:00:00",
          "2024-12-20T00:00:00",
          "2024-12-21T00:00:00",
          "2024-12-22T00:00:00",
          "2024-12-23T00:00:00",
          "2024-12-24T00:00:00",
          "2024-12-25T00:00:00",
          "2024-12-26T00:00:00",
          "2024-12-27T00:00:00",
          "2024-12-28T00:00:00",
          "2024-12-29T00:00:00",
          "2024-12-30T00:00:00",
          "2025-01-01T00:00:00",
          "2025-01-02T00:00:00",
          "2025-01-03T00:00:00",
          "2025-01-04T00:00:00",
          "2025-01-05T00:00:00",
          "2025-01-06T00:00:00",
          "2025-01-07T00:00:00",
          "2025-01-08T00:00:00",
          "2025-01-09T00:00:00",
          "2025-01-10T00:00:00",
          "2025-01-11T00:00:00",
          "2025-01-12T00:00:00",
          "2025-01-13T00:00:00",
          "2025-01-14T00:00:00",
          "2025-01-15T00:00:00",
          "2025-01-16T00:00:00",
          "2025-01-17T00:00:00",
          "2025-01-18T00:00:00",
          "2025-01-19T00:00:00",
          "2025-01-20T00:00:00",
          "2025-01-21T00:00:00",
          "2025-01-22T00:00:00",
          "2025-01-23T00:00:00",
          "2025-01-24T00:00:00",
          "2025-01-25T00:00:00",
          "2025-01-26T00:00:00",
          "2025-01-27T00:00:00",
          "2025-01-28T00:00:00",
          "2025-01-29T00:00:00",
          "2025-01-30T00:00:00",
          "2025-01-31T00:00:00",
          "2025-02-01T00:00:00",
          "2025-02-02T00:00:00",
          "2025-02-03T00:00:00",
          "2025-02-04T00:00:00",
          "2025-02-05T00:00:00",
          "2025-02-06T00:00:00",
          "2025-02-07T00:00:00",
          "2025-02-08T00:00:00",
          "2025-02-09T00:00:00",
          "2025-02-10T00:00:00",
          "2025-02-11T00:00:00",
          "2025-02-12T00:00:00",
          "2025-02-13T00:00:00",
          "2025-02-14T00:00:00",
          "2025-02-15T00:00:00",
          "2025-02-16T00:00:00",
          "2025-02-17T00:00:00",
          "2025-02-18T00:00:00",
          "2025-02-19T00:00:00",
          "2025-02-20T00:00:00",
          "2025-02-21T00:00:00",
          "2025-02-22T00:00:00",
          "2025-02-23T00:00:00",
          "2025-02-24T00:00:00",
          "2025-02-25T00:00:00",
          "2025-02-26T00:00:00",
          "2025-02-27T00:00:00",
          "2025-02-28T00:00:00",
          "2025-03-01T00:00:00",
          "2025-03-02T00:00:00",
          "2025-03-03T00:00:00",
          "2025-03-04T00:00:00",
          "2025-03-05T00:00:00",
          "2025-03-06T00:00:00",
          "2025-03-07T00:00:00",
          "2025-03-08T00:00:00",
          "2025-03-09T00:00:00",
          "2025-03-10T00:00:00",
          "2025-03-11T00:00:00",
          "2025-03-12T00:00:00",
          "2025-03-13T00:00:00",
          "2025-03-14T00:00:00",
          "2025-03-15T00:00:00",
          "2025-03-16T00:00:00",
          "2025-03-17T00:00:00",
          "2025-03-18T00:00:00",
          "2025-03-19T00:00:00",
          "2025-03-20T00:00:00",
          "2025-03-21T00:00:00",
          "2025-03-22T00:00:00",
          "2025-03-23T00:00:00",
          "2025-03-24T00:00:00",
          "2025-03-25T00:00:00",
          "2025-03-26T00:00:00",
          "2025-03-27T00:00:00",
          "2025-03-28T00:00:00",
          "2025-03-29T00:00:00",
          "2025-03-30T00:00:00",
          "2025-03-31T00:00:00",
          "2025-04-01T00:00:00",
          "2025-04-02T00:00:00",
          "2025-04-03T00:00:00",
          "2025-04-04T00:00:00",
          "2025-04-05T00:00:00",
          "2025-04-06T00:00:00",
          "2025-04-07T00:00:00",
          "2025-04-08T00:00:00",
          "2025-04-09T00:00:00",
          "2025-04-10T00:00:00",
          "2025-04-11T00:00:00",
          "2025-04-12T00:00:00",
          "2025-04-13T00:00:00",
          "2025-04-14T00:00:00",
          "2025-04-15T00:00:00",
          "2025-04-16T00:00:00",
          "2025-04-17T00:00:00",
          "2025-04-18T00:00:00",
          "2025-04-19T00:00:00",
          "2025-04-20T00:00:00",
          "2025-04-21T00:00:00"
         ],
         "xaxis": "x",
         "y": {
          "bdata": "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",
          "dtype": "f8"
         },
         "yaxis": "y"
        },
        {
         "hovertemplate": "Temperature Type=TMAX<br>DATE=%{x}<br>Temperature (°C)=%{y}<extra></extra>",
         "legendgroup": "TMAX",
         "line": {
          "color": "#EF553B",
          "dash": "solid"
         },
         "marker": {
          "symbol": "circle"
         },
         "mode": "lines",
         "name": "TMAX",
         "showlegend": true,
         "type": "scattergl",
         "x": [
          "2023-01-01T00:00:00",
          "2023-01-02T00:00:00",
          "2023-01-03T00:00:00",
          "2023-01-04T00:00:00",
          "2023-01-05T00:00:00",
          "2023-01-06T00:00:00",
          "2023-01-07T00:00:00",
          "2023-01-08T00:00:00",
          "2023-01-09T00:00:00",
          "2023-01-10T00:00:00",
          "2023-01-11T00:00:00",
          "2023-01-12T00:00:00",
          "2023-01-13T00:00:00",
          "2023-01-14T00:00:00",
          "2023-01-15T00:00:00",
          "2023-01-16T00:00:00",
          "2023-01-17T00:00:00",
          "2023-01-18T00:00:00",
          "2023-01-19T00:00:00",
          "2023-01-20T00:00:00",
          "2023-01-21T00:00:00",
          "2023-01-22T00:00:00",
          "2023-01-23T00:00:00",
          "2023-01-24T00:00:00",
          "2023-01-25T00:00:00",
          "2023-01-26T00:00:00",
          "2023-01-27T00:00:00",
          "2023-01-28T00:00:00",
          "2023-01-29T00:00:00",
          "2023-01-30T00:00:00",
          "2023-01-31T00:00:00",
          "2023-02-01T00:00:00",
          "2023-02-02T00:00:00",
          "2023-02-03T00:00:00",
          "2023-02-04T00:00:00",
          "2023-02-05T00:00:00",
          "2023-02-06T00:00:00",
          "2023-02-07T00:00:00",
          "2023-02-08T00:00:00",
          "2023-02-09T00:00:00",
          "2023-02-10T00:00:00",
          "2023-02-11T00:00:00",
          "2023-02-12T00:00:00",
          "2023-02-13T00:00:00",
          "2023-02-14T00:00:00",
          "2023-02-15T00:00:00",
          "2023-02-16T00:00:00",
          "2023-02-17T00:00:00",
          "2023-02-18T00:00:00",
          "2023-02-19T00:00:00",
          "2023-02-20T00:00:00",
          "2023-02-21T00:00:00",
          "2023-02-22T00:00:00",
          "2023-02-23T00:00:00",
          "2023-02-24T00:00:00",
          "2023-02-25T00:00:00",
          "2023-02-26T00:00:00",
          "2023-02-27T00:00:00",
          "2023-02-28T00:00:00",
          "2023-03-01T00:00:00",
          "2023-03-02T00:00:00",
          "2023-03-03T00:00:00",
          "2023-03-04T00:00:00",
          "2023-03-05T00:00:00",
          "2023-03-06T00:00:00",
          "2023-03-07T00:00:00",
          "2023-03-08T00:00:00",
          "2023-03-09T00:00:00",
          "2023-03-10T00:00:00",
          "2023-03-11T00:00:00",
          "2023-03-12T00:00:00",
          "2023-03-13T00:00:00",
          "2023-03-14T00:00:00",
          "2023-03-15T00:00:00",
          "2023-03-16T00:00:00",
          "2023-03-17T00:00:00",
          "2023-03-18T00:00:00",
          "2023-03-19T00:00:00",
          "2023-03-20T00:00:00",
          "2023-03-21T00:00:00",
          "2023-03-22T00:00:00",
          "2023-03-23T00:00:00",
          "2023-03-24T00:00:00",
          "2023-03-25T00:00:00",
          "2023-03-26T00:00:00",
          "2023-03-27T00:00:00",
          "2023-03-28T00:00:00",
          "2023-03-29T00:00:00",
          "2023-03-30T00:00:00",
          "2023-03-31T00:00:00",
          "2023-04-01T00:00:00",
          "2023-04-02T00:00:00",
          "2023-04-03T00:00:00",
          "2023-04-04T00:00:00",
          "2023-04-05T00:00:00",
          "2023-04-06T00:00:00",
          "2023-04-07T00:00:00",
          "2023-04-08T00:00:00",
          "2023-04-09T00:00:00",
          "2023-04-10T00:00:00",
          "2023-04-11T00:00:00",
          "2023-04-12T00:00:00",
          "2023-04-13T00:00:00",
          "2023-04-14T00:00:00",
          "2023-04-15T00:00:00",
          "2023-04-16T00:00:00",
          "2023-04-17T00:00:00",
          "2023-04-18T00:00:00",
          "2023-04-19T00:00:00",
          "2023-04-20T00:00:00",
          "2023-04-21T00:00:00",
          "2023-04-22T00:00:00",
          "2023-04-23T00:00:00",
          "2023-04-24T00:00:00",
          "2023-04-25T00:00:00",
          "2023-04-26T00:00:00",
          "2023-04-27T00:00:00",
          "2023-04-28T00:00:00",
          "2023-04-29T00:00:00",
          "2023-04-30T00:00:00",
          "2023-05-01T00:00:00",
          "2023-05-02T00:00:00",
          "2023-05-03T00:00:00",
          "2023-05-04T00:00:00",
          "2023-05-05T00:00:00",
          "2023-05-06T00:00:00",
          "2023-05-07T00:00:00",
          "2023-05-08T00:00:00",
          "2023-05-09T00:00:00",
          "2023-05-10T00:00:00",
          "2023-05-11T00:00:00",
          "2023-05-12T00:00:00",
          "2023-05-13T00:00:00",
          "2023-05-14T00:00:00",
          "2023-05-15T00:00:00",
          "2023-05-16T00:00:00",
          "2023-05-17T00:00:00",
          "2023-05-18T00:00:00",
          "2023-05-19T00:00:00",
          "2023-05-20T00:00:00",
          "2023-05-21T00:00:00",
          "2023-05-22T00:00:00",
          "2023-05-23T00:00:00",
          "2023-05-24T00:00:00",
          "2023-05-25T00:00:00",
          "2023-05-26T00:00:00",
          "2023-05-27T00:00:00",
          "2023-05-28T00:00:00",
          "2023-05-29T00:00:00",
          "2023-05-30T00:00:00",
          "2023-05-31T00:00:00",
          "2023-06-01T00:00:00",
          "2023-06-02T00:00:00",
          "2023-06-03T00:00:00",
          "2023-06-04T00:00:00",
          "2023-06-05T00:00:00",
          "2023-06-06T00:00:00",
          "2023-06-07T00:00:00",
          "2023-06-08T00:00:00",
          "2023-06-09T00:00:00",
          "2023-06-10T00:00:00",
          "2023-06-11T00:00:00",
          "2023-06-12T00:00:00",
          "2023-06-13T00:00:00",
          "2023-06-14T00:00:00",
          "2023-06-15T00:00:00",
          "2023-06-16T00:00:00",
          "2023-06-17T00:00:00",
          "2023-06-18T00:00:00",
          "2023-06-19T00:00:00",
          "2023-06-20T00:00:00",
          "2023-06-21T00:00:00",
          "2023-06-22T00:00:00",
          "2023-06-23T00:00:00",
          "2023-06-24T00:00:00",
          "2023-06-25T00:00:00",
          "2023-06-26T00:00:00",
          "2023-06-27T00:00:00",
          "2023-06-28T00:00:00",
          "2023-06-29T00:00:00",
          "2023-06-30T00:00:00",
          "2023-07-01T00:00:00",
          "2023-07-02T00:00:00",
          "2023-07-03T00:00:00",
          "2023-07-04T00:00:00",
          "2023-07-05T00:00:00",
          "2023-07-06T00:00:00",
          "2023-07-07T00:00:00",
          "2023-07-08T00:00:00",
          "2023-07-09T00:00:00",
          "2023-07-10T00:00:00",
          "2023-07-11T00:00:00",
          "2023-07-12T00:00:00",
          "2023-07-13T00:00:00",
          "2023-07-14T00:00:00",
          "2023-07-15T00:00:00",
          "2023-07-16T00:00:00",
          "2023-07-17T00:00:00",
          "2023-07-18T00:00:00",
          "2023-07-19T00:00:00",
          "2023-07-20T00:00:00",
          "2023-07-21T00:00:00",
          "2023-07-22T00:00:00",
          "2023-07-23T00:00:00",
          "2023-07-24T00:00:00",
          "2023-07-25T00:00:00",
          "2023-07-26T00:00:00",
          "2023-07-27T00:00:00",
          "2023-07-28T00:00:00",
          "2023-07-29T00:00:00",
          "2023-07-30T00:00:00",
          "2023-07-31T00:00:00",
          "2023-08-01T00:00:00",
          "2023-08-02T00:00:00",
          "2023-08-03T00:00:00",
          "2023-08-04T00:00:00",
          "2023-08-05T00:00:00",
          "2023-08-06T00:00:00",
          "2023-08-07T00:00:00",
          "2023-08-08T00:00:00",
          "2023-08-09T00:00:00",
          "2023-08-10T00:00:00",
          "2023-08-11T00:00:00",
          "2023-08-12T00:00:00",
          "2023-08-13T00:00:00",
          "2023-08-14T00:00:00",
          "2023-08-15T00:00:00",
          "2023-08-16T00:00:00",
          "2023-08-17T00:00:00",
          "2023-08-18T00:00:00",
          "2023-08-19T00:00:00",
          "2023-08-20T00:00:00",
          "2023-08-21T00:00:00",
          "2023-08-22T00:00:00",
          "2023-08-23T00:00:00",
          "2023-08-24T00:00:00",
          "2023-08-25T00:00:00",
          "2023-08-26T00:00:00",
          "2023-08-27T00:00:00",
          "2023-08-28T00:00:00",
          "2023-08-29T00:00:00",
          "2023-08-30T00:00:00",
          "2023-08-31T00:00:00",
          "2023-09-01T00:00:00",
          "2023-09-02T00:00:00",
          "2023-09-03T00:00:00",
          "2023-09-04T00:00:00",
          "2023-09-05T00:00:00",
          "2023-09-06T00:00:00",
          "2023-09-07T00:00:00",
          "2023-09-08T00:00:00",
          "2023-09-09T00:00:00",
          "2023-09-10T00:00:00",
          "2023-09-11T00:00:00",
          "2023-09-12T00:00:00",
          "2023-09-13T00:00:00",
          "2023-09-14T00:00:00",
          "2023-09-15T00:00:00",
          "2023-09-16T00:00:00",
          "2023-09-17T00:00:00",
          "2023-09-18T00:00:00",
          "2023-09-19T00:00:00",
          "2023-09-20T00:00:00",
          "2023-09-21T00:00:00",
          "2023-09-22T00:00:00",
          "2023-09-23T00:00:00",
          "2023-09-24T00:00:00",
          "2023-09-25T00:00:00",
          "2023-09-26T00:00:00",
          "2023-09-27T00:00:00",
          "2023-09-28T00:00:00",
          "2023-09-29T00:00:00",
          "2023-09-30T00:00:00",
          "2023-10-01T00:00:00",
          "2023-10-02T00:00:00",
          "2023-10-03T00:00:00",
          "2023-10-04T00:00:00",
          "2023-10-05T00:00:00",
          "2023-10-06T00:00:00",
          "2023-10-07T00:00:00",
          "2023-10-08T00:00:00",
          "2023-10-09T00:00:00",
          "2023-10-10T00:00:00",
          "2023-10-11T00:00:00",
          "2023-10-12T00:00:00",
          "2023-10-13T00:00:00",
          "2023-10-14T00:00:00",
          "2023-10-15T00:00:00",
          "2023-10-16T00:00:00",
          "2023-10-17T00:00:00",
          "2023-10-18T00:00:00",
          "2023-10-19T00:00:00",
          "2023-10-20T00:00:00",
          "2023-10-21T00:00:00",
          "2023-10-22T00:00:00",
          "2023-10-23T00:00:00",
          "2023-10-24T00:00:00",
          "2023-10-25T00:00:00",
          "2023-10-26T00:00:00",
          "2023-10-27T00:00:00",
          "2023-10-28T00:00:00",
          "2023-10-29T00:00:00",
          "2023-10-30T00:00:00",
          "2023-10-31T00:00:00",
          "2023-11-01T00:00:00",
          "2023-11-02T00:00:00",
          "2023-11-03T00:00:00",
          "2023-11-04T00:00:00",
          "2023-11-05T00:00:00",
          "2023-11-06T00:00:00",
          "2023-11-07T00:00:00",
          "2023-11-08T00:00:00",
          "2023-11-09T00:00:00",
          "2023-11-10T00:00:00",
          "2023-11-11T00:00:00",
          "2023-11-12T00:00:00",
          "2023-11-13T00:00:00",
          "2023-11-14T00:00:00",
          "2023-11-15T00:00:00",
          "2023-11-16T00:00:00",
          "2023-11-17T00:00:00",
          "2023-11-18T00:00:00",
          "2023-11-19T00:00:00",
          "2023-11-20T00:00:00",
          "2023-11-21T00:00:00",
          "2023-11-22T00:00:00",
          "2023-11-23T00:00:00",
          "2023-11-24T00:00:00",
          "2023-11-25T00:00:00",
          "2023-11-26T00:00:00",
          "2023-11-27T00:00:00",
          "2023-11-28T00:00:00",
          "2023-11-29T00:00:00",
          "2023-11-30T00:00:00",
          "2023-12-01T00:00:00",
          "2023-12-02T00:00:00",
          "2023-12-03T00:00:00",
          "2023-12-04T00:00:00",
          "2023-12-05T00:00:00",
          "2023-12-06T00:00:00",
          "2023-12-07T00:00:00",
          "2023-12-08T00:00:00",
          "2023-12-09T00:00:00",
          "2023-12-10T00:00:00",
          "2023-12-11T00:00:00",
          "2023-12-12T00:00:00",
          "2023-12-13T00:00:00",
          "2023-12-14T00:00:00",
          "2023-12-15T00:00:00",
          "2023-12-16T00:00:00",
          "2023-12-17T00:00:00",
          "2023-12-18T00:00:00",
          "2023-12-19T00:00:00",
          "2023-12-20T00:00:00",
          "2023-12-21T00:00:00",
          "2023-12-22T00:00:00",
          "2023-12-23T00:00:00",
          "2023-12-24T00:00:00",
          "2023-12-25T00:00:00",
          "2023-12-26T00:00:00",
          "2023-12-27T00:00:00",
          "2023-12-28T00:00:00",
          "2023-12-29T00:00:00",
          "2023-12-30T00:00:00",
          "2023-12-31T00:00:00",
          "2024-01-01T00:00:00",
          "2024-01-02T00:00:00",
          "2024-01-03T00:00:00",
          "2024-01-04T00:00:00",
          "2024-01-05T00:00:00",
          "2024-01-06T00:00:00",
          "2024-01-07T00:00:00",
          "2024-01-08T00:00:00",
          "2024-01-09T00:00:00",
          "2024-01-10T00:00:00",
          "2024-01-11T00:00:00",
          "2024-01-12T00:00:00",
          "2024-01-13T00:00:00",
          "2024-01-14T00:00:00",
          "2024-01-15T00:00:00",
          "2024-01-16T00:00:00",
          "2024-01-17T00:00:00",
          "2024-01-18T00:00:00",
          "2024-01-19T00:00:00",
          "2024-01-20T00:00:00",
          "2024-01-21T00:00:00",
          "2024-01-22T00:00:00",
          "2024-01-23T00:00:00",
          "2024-01-24T00:00:00",
          "2024-01-25T00:00:00",
          "2024-01-26T00:00:00",
          "2024-01-27T00:00:00",
          "2024-01-28T00:00:00",
          "2024-01-29T00:00:00",
          "2024-01-30T00:00:00",
          "2024-01-31T00:00:00",
          "2024-02-01T00:00:00",
          "2024-02-02T00:00:00",
          "2024-02-03T00:00:00",
          "2024-02-04T00:00:00",
          "2024-02-05T00:00:00",
          "2024-02-06T00:00:00",
          "2024-02-07T00:00:00",
          "2024-02-08T00:00:00",
          "2024-02-09T00:00:00",
          "2024-02-10T00:00:00",
          "2024-02-11T00:00:00",
          "2024-02-12T00:00:00",
          "2024-02-13T00:00:00",
          "2024-02-14T00:00:00",
          "2024-02-15T00:00:00",
          "2024-02-16T00:00:00",
          "2024-02-17T00:00:00",
          "2024-02-18T00:00:00",
          "2024-02-19T00:00:00",
          "2024-02-20T00:00:00",
          "2024-02-21T00:00:00",
          "2024-02-22T00:00:00",
          "2024-02-23T00:00:00",
          "2024-02-24T00:00:00",
          "2024-02-25T00:00:00",
          "2024-02-26T00:00:00",
          "2024-02-27T00:00:00",
          "2024-02-28T00:00:00",
          "2024-02-29T00:00:00",
          "2024-03-01T00:00:00",
          "2024-03-02T00:00:00",
          "2024-03-03T00:00:00",
          "2024-03-04T00:00:00",
          "2024-03-05T00:00:00",
          "2024-03-06T00:00:00",
          "2024-03-07T00:00:00",
          "2024-03-08T00:00:00",
          "2024-03-09T00:00:00",
          "2024-03-10T00:00:00",
          "2024-03-11T00:00:00",
          "2024-03-12T00:00:00",
          "2024-03-13T00:00:00",
          "2024-03-14T00:00:00",
          "2024-03-15T00:00:00",
          "2024-03-16T00:00:00",
          "2024-03-17T00:00:00",
          "2024-03-18T00:00:00",
          "2024-03-19T00:00:00",
          "2024-03-20T00:00:00",
          "2024-03-21T00:00:00",
          "2024-03-22T00:00:00",
          "2024-03-23T00:00:00",
          "2024-03-24T00:00:00",
          "2024-03-25T00:00:00",
          "2024-03-26T00:00:00",
          "2024-03-27T00:00:00",
          "2024-03-28T00:00:00",
          "2024-03-29T00:00:00",
          "2024-03-30T00:00:00",
          "2024-03-31T00:00:00",
          "2024-04-01T00:00:00",
          "2024-04-02T00:00:00",
          "2024-04-03T00:00:00",
          "2024-04-04T00:00:00",
          "2024-04-05T00:00:00",
          "2024-04-06T00:00:00",
          "2024-04-07T00:00:00",
          "2024-04-08T00:00:00",
          "2024-04-09T00:00:00",
          "2024-04-10T00:00:00",
          "2024-04-11T00:00:00",
          "2024-04-12T00:00:00",
          "2024-04-13T00:00:00",
          "2024-04-14T00:00:00",
          "2024-04-15T00:00:00",
          "2024-04-16T00:00:00",
          "2024-04-17T00:00:00",
          "2024-04-18T00:00:00",
          "2024-04-19T00:00:00",
          "2024-04-20T00:00:00",
          "2024-04-21T00:00:00",
          "2024-04-22T00:00:00",
          "2024-04-23T00:00:00",
          "2024-04-24T00:00:00",
          "2024-04-25T00:00:00",
          "2024-04-26T00:00:00",
          "2024-04-27T00:00:00",
          "2024-04-28T00:00:00",
          "2024-04-29T00:00:00",
          "2024-04-30T00:00:00",
          "2024-05-01T00:00:00",
          "2024-05-02T00:00:00",
          "2024-05-03T00:00:00",
          "2024-05-04T00:00:00",
          "2024-05-05T00:00:00",
          "2024-05-06T00:00:00",
          "2024-05-07T00:00:00",
          "2024-05-08T00:00:00",
          "2024-05-09T00:00:00",
          "2024-05-10T00:00:00",
          "2024-05-11T00:00:00",
          "2024-05-12T00:00:00",
          "2024-05-13T00:00:00",
          "2024-05-14T00:00:00",
          "2024-05-15T00:00:00",
          "2024-05-16T00:00:00",
          "2024-05-17T00:00:00",
          "2024-05-18T00:00:00",
          "2024-05-19T00:00:00",
          "2024-05-20T00:00:00",
          "2024-05-21T00:00:00",
          "2024-05-22T00:00:00",
          "2024-05-23T00:00:00",
          "2024-05-24T00:00:00",
          "2024-05-25T00:00:00",
          "2024-05-26T00:00:00",
          "2024-05-27T00:00:00",
          "2024-05-28T00:00:00",
          "2024-05-29T00:00:00",
          "2024-05-30T00:00:00",
          "2024-05-31T00:00:00",
          "2024-06-01T00:00:00",
          "2024-06-02T00:00:00",
          "2024-06-03T00:00:00",
          "2024-06-04T00:00:00",
          "2024-06-05T00:00:00",
          "2024-06-06T00:00:00",
          "2024-06-07T00:00:00",
          "2024-06-08T00:00:00",
          "2024-06-09T00:00:00",
          "2024-06-10T00:00:00",
          "2024-06-11T00:00:00",
          "2024-06-12T00:00:00",
          "2024-06-13T00:00:00",
          "2024-06-14T00:00:00",
          "2024-06-15T00:00:00",
          "2024-06-16T00:00:00",
          "2024-06-17T00:00:00",
          "2024-06-18T00:00:00",
          "2024-06-19T00:00:00",
          "2024-06-20T00:00:00",
          "2024-06-21T00:00:00",
          "2024-06-22T00:00:00",
          "2024-06-23T00:00:00",
          "2024-06-24T00:00:00",
          "2024-06-25T00:00:00",
          "2024-06-26T00:00:00",
          "2024-06-27T00:00:00",
          "2024-06-28T00:00:00",
          "2024-06-29T00:00:00",
          "2024-06-30T00:00:00",
          "2024-07-01T00:00:00",
          "2024-07-02T00:00:00",
          "2024-07-03T00:00:00",
          "2024-07-04T00:00:00",
          "2024-07-05T00:00:00",
          "2024-07-06T00:00:00",
          "2024-07-07T00:00:00",
          "2024-07-08T00:00:00",
          "2024-07-09T00:00:00",
          "2024-07-10T00:00:00",
          "2024-07-11T00:00:00",
          "2024-07-12T00:00:00",
          "2024-07-13T00:00:00",
          "2024-07-14T00:00:00",
          "2024-07-15T00:00:00",
          "2024-07-16T00:00:00",
          "2024-07-17T00:00:00",
          "2024-07-18T00:00:00",
          "2024-07-19T00:00:00",
          "2024-07-20T00:00:00",
          "2024-07-21T00:00:00",
          "2024-07-22T00:00:00",
          "2024-07-23T00:00:00",
          "2024-07-24T00:00:00",
          "2024-07-25T00:00:00",
          "2024-07-26T00:00:00",
          "2024-07-27T00:00:00",
          "2024-07-28T00:00:00",
          "2024-07-29T00:00:00",
          "2024-07-30T00:00:00",
          "2024-07-31T00:00:00",
          "2024-08-01T00:00:00",
          "2024-08-02T00:00:00",
          "2024-08-03T00:00:00",
          "2024-08-04T00:00:00",
          "2024-08-05T00:00:00",
          "2024-08-06T00:00:00",
          "2024-08-07T00:00:00",
          "2024-08-08T00:00:00",
          "2024-08-09T00:00:00",
          "2024-08-10T00:00:00",
          "2024-08-11T00:00:00",
          "2024-08-12T00:00:00",
          "2024-08-13T00:00:00",
          "2024-08-14T00:00:00",
          "2024-08-15T00:00:00",
          "2024-08-16T00:00:00",
          "2024-08-17T00:00:00",
          "2024-08-18T00:00:00",
          "2024-08-19T00:00:00",
          "2024-08-20T00:00:00",
          "2024-08-21T00:00:00",
          "2024-08-22T00:00:00",
          "2024-08-23T00:00:00",
          "2024-08-24T00:00:00",
          "2024-08-25T00:00:00",
          "2024-08-26T00:00:00",
          "2024-08-27T00:00:00",
          "2024-08-28T00:00:00",
          "2024-08-29T00:00:00",
          "2024-08-30T00:00:00",
          "2024-08-31T00:00:00",
          "2024-09-01T00:00:00",
          "2024-09-02T00:00:00",
          "2024-09-03T00:00:00",
          "2024-09-04T00:00:00",
          "2024-09-05T00:00:00",
          "2024-09-06T00:00:00",
          "2024-09-07T00:00:00",
          "2024-09-08T00:00:00",
          "2024-09-09T00:00:00",
          "2024-09-10T00:00:00",
          "2024-09-11T00:00:00",
          "2024-09-12T00:00:00",
          "2024-09-13T00:00:00",
          "2024-09-14T00:00:00",
          "2024-09-15T00:00:00",
          "2024-09-16T00:00:00",
          "2024-09-17T00:00:00",
          "2024-09-18T00:00:00",
          "2024-09-19T00:00:00",
          "2024-09-20T00:00:00",
          "2024-09-21T00:00:00",
          "2024-09-22T00:00:00",
          "2024-09-23T00:00:00",
          "2024-09-24T00:00:00",
          "2024-09-25T00:00:00",
          "2024-09-26T00:00:00",
          "2024-09-27T00:00:00",
          "2024-09-28T00:00:00",
          "2024-09-29T00:00:00",
          "2024-09-30T00:00:00",
          "2024-10-01T00:00:00",
          "2024-10-02T00:00:00",
          "2024-10-03T00:00:00",
          "2024-10-04T00:00:00",
          "2024-10-05T00:00:00",
          "2024-10-06T00:00:00",
          "2024-10-07T00:00:00",
          "2024-10-08T00:00:00",
          "2024-10-09T00:00:00",
          "2024-10-10T00:00:00",
          "2024-10-11T00:00:00",
          "2024-10-12T00:00:00",
          "2024-10-13T00:00:00",
          "2024-10-14T00:00:00",
          "2024-10-15T00:00:00",
          "2024-10-16T00:00:00",
          "2024-10-17T00:00:00",
          "2024-10-18T00:00:00",
          "2024-10-19T00:00:00",
          "2024-10-20T00:00:00",
          "2024-10-21T00:00:00",
          "2024-10-22T00:00:00",
          "2024-10-23T00:00:00",
          "2024-10-24T00:00:00",
          "2024-10-25T00:00:00",
          "2024-10-26T00:00:00",
          "2024-10-27T00:00:00",
          "2024-10-28T00:00:00",
          "2024-10-29T00:00:00",
          "2024-10-30T00:00:00",
          "2024-10-31T00:00:00",
          "2024-11-01T00:00:00",
          "2024-11-02T00:00:00",
          "2024-11-03T00:00:00",
          "2024-11-04T00:00:00",
          "2024-11-05T00:00:00",
          "2024-11-06T00:00:00",
          "2024-11-07T00:00:00",
          "2024-11-08T00:00:00",
          "2024-11-09T00:00:00",
          "2024-11-10T00:00:00",
          "2024-11-11T00:00:00",
          "2024-11-12T00:00:00",
          "2024-11-13T00:00:00",
          "2024-11-14T00:00:00",
          "2024-11-15T00:00:00",
          "2024-11-16T00:00:00",
          "2024-11-17T00:00:00",
          "2024-11-18T00:00:00",
          "2024-11-19T00:00:00",
          "2024-11-20T00:00:00",
          "2024-11-21T00:00:00",
          "2024-11-22T00:00:00",
          "2024-11-23T00:00:00",
          "2024-11-24T00:00:00",
          "2024-11-25T00:00:00",
          "2024-11-26T00:00:00",
          "2024-11-27T00:00:00",
          "2024-11-28T00:00:00",
          "2024-11-29T00:00:00",
          "2024-11-30T00:00:00",
          "2024-12-01T00:00:00",
          "2024-12-02T00:00:00",
          "2024-12-03T00:00:00",
          "2024-12-04T00:00:00",
          "2024-12-05T00:00:00",
          "2024-12-06T00:00:00",
          "2024-12-07T00:00:00",
          "2024-12-08T00:00:00",
          "2024-12-09T00:00:00",
          "2024-12-10T00:00:00",
          "2024-12-11T00:00:00",
          "2024-12-12T00:00:00",
          "2024-12-13T00:00:00",
          "2024-12-14T00:00:00",
          "2024-12-15T00:00:00",
          "2024-12-16T00:00:00",
          "2024-12-17T00:00:00",
          "2024-12-18T00:00:00",
          "2024-12-19T00:00:00",
          "2024-12-20T00:00:00",
          "2024-12-21T00:00:00",
          "2024-12-22T00:00:00",
          "2024-12-23T00:00:00",
          "2024-12-24T00:00:00",
          "2024-12-25T00:00:00",
          "2024-12-26T00:00:00",
          "2024-12-27T00:00:00",
          "2024-12-28T00:00:00",
          "2024-12-29T00:00:00",
          "2024-12-30T00:00:00",
          "2025-01-01T00:00:00",
          "2025-01-02T00:00:00",
          "2025-01-03T00:00:00",
          "2025-01-04T00:00:00",
          "2025-01-05T00:00:00",
          "2025-01-06T00:00:00",
          "2025-01-07T00:00:00",
          "2025-01-08T00:00:00",
          "2025-01-09T00:00:00",
          "2025-01-10T00:00:00",
          "2025-01-11T00:00:00",
          "2025-01-12T00:00:00",
          "2025-01-13T00:00:00",
          "2025-01-14T00:00:00",
          "2025-01-15T00:00:00",
          "2025-01-16T00:00:00",
          "2025-01-17T00:00:00",
          "2025-01-18T00:00:00",
          "2025-01-19T00:00:00",
          "2025-01-20T00:00:00",
          "2025-01-21T00:00:00",
          "2025-01-22T00:00:00",
          "2025-01-23T00:00:00",
          "2025-01-24T00:00:00",
          "2025-01-25T00:00:00",
          "2025-01-26T00:00:00",
          "2025-01-27T00:00:00",
          "2025-01-28T00:00:00",
          "2025-01-29T00:00:00",
          "2025-01-30T00:00:00",
          "2025-01-31T00:00:00",
          "2025-02-01T00:00:00",
          "2025-02-02T00:00:00",
          "2025-02-03T00:00:00",
          "2025-02-04T00:00:00",
          "2025-02-05T00:00:00",
          "2025-02-06T00:00:00",
          "2025-02-07T00:00:00",
          "2025-02-08T00:00:00",
          "2025-02-09T00:00:00",
          "2025-02-10T00:00:00",
          "2025-02-11T00:00:00",
          "2025-02-12T00:00:00",
          "2025-02-13T00:00:00",
          "2025-02-14T00:00:00",
          "2025-02-15T00:00:00",
          "2025-02-16T00:00:00",
          "2025-02-17T00:00:00",
          "2025-02-18T00:00:00",
          "2025-02-19T00:00:00",
          "2025-02-20T00:00:00",
          "2025-02-21T00:00:00",
          "2025-02-22T00:00:00",
          "2025-02-23T00:00:00",
          "2025-02-24T00:00:00",
          "2025-02-25T00:00:00",
          "2025-02-26T00:00:00",
          "2025-02-27T00:00:00",
          "2025-02-28T00:00:00",
          "2025-03-01T00:00:00",
          "2025-03-02T00:00:00",
          "2025-03-03T00:00:00",
          "2025-03-04T00:00:00",
          "2025-03-05T00:00:00",
          "2025-03-06T00:00:00",
          "2025-03-07T00:00:00",
          "2025-03-08T00:00:00",
          "2025-03-09T00:00:00",
          "2025-03-10T00:00:00",
          "2025-03-11T00:00:00",
          "2025-03-12T00:00:00",
          "2025-03-13T00:00:00",
          "2025-03-14T00:00:00",
          "2025-03-15T00:00:00",
          "2025-03-16T00:00:00",
          "2025-03-17T00:00:00",
          "2025-03-18T00:00:00",
          "2025-03-19T00:00:00",
          "2025-03-20T00:00:00",
          "2025-03-21T00:00:00",
          "2025-03-22T00:00:00",
          "2025-03-23T00:00:00",
          "2025-03-24T00:00:00",
          "2025-03-25T00:00:00",
          "2025-03-26T00:00:00",
          "2025-03-27T00:00:00",
          "2025-03-28T00:00:00",
          "2025-03-29T00:00:00",
          "2025-03-30T00:00:00",
          "2025-03-31T00:00:00",
          "2025-04-01T00:00:00",
          "2025-04-02T00:00:00",
          "2025-04-03T00:00:00",
          "2025-04-04T00:00:00",
          "2025-04-05T00:00:00",
          "2025-04-06T00:00:00",
          "2025-04-07T00:00:00",
          "2025-04-08T00:00:00",
          "2025-04-09T00:00:00",
          "2025-04-10T00:00:00",
          "2025-04-11T00:00:00",
          "2025-04-12T00:00:00",
          "2025-04-13T00:00:00",
          "2025-04-14T00:00:00",
          "2025-04-15T00:00:00",
          "2025-04-16T00:00:00",
          "2025-04-17T00:00:00",
          "2025-04-18T00:00:00",
          "2025-04-19T00:00:00",
          "2025-04-20T00:00:00",
          "2025-04-21T00:00:00"
         ],
         "xaxis": "x",
         "y": {
          "bdata": "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",
          "dtype": "f8"
         },
         "yaxis": "y"
        }
       ],
       "layout": {
        "legend": {
         "title": {
          "text": "Temperature Type"
         },
         "tracegroupgap": 0
        },
        "template": {
         "data": {
          "bar": [
           {
            "error_x": {
             "color": "#2a3f5f"
            },
            "error_y": {
             "color": "#2a3f5f"
            },
            "marker": {
             "line": {
              "color": "#E5ECF6",
              "width": 0.5
             },
             "pattern": {
              "fillmode": "overlay",
              "size": 10,
              "solidity": 0.2
             }
            },
            "type": "bar"
           }
          ],
          "barpolar": [
           {
            "marker": {
             "line": {
              "color": "#E5ECF6",
              "width": 0.5
             },
             "pattern": {
              "fillmode": "overlay",
              "size": 10,
              "solidity": 0.2
             }
            },
            "type": "barpolar"
           }
          ],
          "carpet": [
           {
            "aaxis": {
             "endlinecolor": "#2a3f5f",
             "gridcolor": "white",
             "linecolor": "white",
             "minorgridcolor": "white",
             "startlinecolor": "#2a3f5f"
            },
            "baxis": {
             "endlinecolor": "#2a3f5f",
             "gridcolor": "white",
             "linecolor": "white",
             "minorgridcolor": "white",
             "startlinecolor": "#2a3f5f"
            },
            "type": "carpet"
           }
          ],
          "choropleth": [
           {
            "colorbar": {
             "outlinewidth": 0,
             "ticks": ""
            },
            "type": "choropleth"
           }
          ],
          "contour": [
           {
            "colorbar": {
             "outlinewidth": 0,
             "ticks": ""
            },
            "colorscale": [
             [
              0,
              "#0d0887"
             ],
             [
              0.1111111111111111,
              "#46039f"
             ],
             [
              0.2222222222222222,
              "#7201a8"
             ],
             [
              0.3333333333333333,
              "#9c179e"
             ],
             [
              0.4444444444444444,
              "#bd3786"
             ],
             [
              0.5555555555555556,
              "#d8576b"
             ],
             [
              0.6666666666666666,
              "#ed7953"
             ],
             [
              0.7777777777777778,
              "#fb9f3a"
             ],
             [
              0.8888888888888888,
              "#fdca26"
             ],
             [
              1,
              "#f0f921"
             ]
            ],
            "type": "contour"
           }
          ],
          "contourcarpet": [
           {
            "colorbar": {
             "outlinewidth": 0,
             "ticks": ""
            },
            "type": "contourcarpet"
           }
          ],
          "heatmap": [
           {
            "colorbar": {
             "outlinewidth": 0,
             "ticks": ""
            },
            "colorscale": [
             [
              0,
              "#0d0887"
             ],
             [
              0.1111111111111111,
              "#46039f"
             ],
             [
              0.2222222222222222,
              "#7201a8"
             ],
             [
              0.3333333333333333,
              "#9c179e"
             ],
             [
              0.4444444444444444,
              "#bd3786"
             ],
             [
              0.5555555555555556,
              "#d8576b"
             ],
             [
              0.6666666666666666,
              "#ed7953"
             ],
             [
              0.7777777777777778,
              "#fb9f3a"
             ],
             [
              0.8888888888888888,
              "#fdca26"
             ],
             [
              1,
              "#f0f921"
             ]
            ],
            "type": "heatmap"
           }
          ],
          "histogram": [
           {
            "marker": {
             "pattern": {
              "fillmode": "overlay",
              "size": 10,
              "solidity": 0.2
             }
            },
            "type": "histogram"
           }
          ],
          "histogram2d": [
           {
            "colorbar": {
             "outlinewidth": 0,
             "ticks": ""
            },
            "colorscale": [
             [
              0,
              "#0d0887"
             ],
             [
              0.1111111111111111,
              "#46039f"
             ],
             [
              0.2222222222222222,
              "#7201a8"
             ],
             [
              0.3333333333333333,
              "#9c179e"
             ],
             [
              0.4444444444444444,
              "#bd3786"
             ],
             [
              0.5555555555555556,
              "#d8576b"
             ],
             [
              0.6666666666666666,
              "#ed7953"
             ],
             [
              0.7777777777777778,
              "#fb9f3a"
             ],
             [
              0.8888888888888888,
              "#fdca26"
             ],
             [
              1,
              "#f0f921"
             ]
            ],
            "type": "histogram2d"
           }
          ],
          "histogram2dcontour": [
           {
            "colorbar": {
             "outlinewidth": 0,
             "ticks": ""
            },
            "colorscale": [
             [
              0,
              "#0d0887"
             ],
             [
              0.1111111111111111,
              "#46039f"
             ],
             [
              0.2222222222222222,
              "#7201a8"
             ],
             [
              0.3333333333333333,
              "#9c179e"
             ],
             [
              0.4444444444444444,
              "#bd3786"
             ],
             [
              0.5555555555555556,
              "#d8576b"
             ],
             [
              0.6666666666666666,
              "#ed7953"
             ],
             [
              0.7777777777777778,
              "#fb9f3a"
             ],
             [
              0.8888888888888888,
              "#fdca26"
             ],
             [
              1,
              "#f0f921"
             ]
            ],
            "type": "histogram2dcontour"
           }
          ],
          "mesh3d": [
           {
            "colorbar": {
             "outlinewidth": 0,
             "ticks": ""
            },
            "type": "mesh3d"
           }
          ],
          "parcoords": [
           {
            "line": {
             "colorbar": {
              "outlinewidth": 0,
              "ticks": ""
             }
            },
            "type": "parcoords"
           }
          ],
          "pie": [
           {
            "automargin": true,
            "type": "pie"
           }
          ],
          "scatter": [
           {
            "fillpattern": {
             "fillmode": "overlay",
             "size": 10,
             "solidity": 0.2
            },
            "type": "scatter"
           }
          ],
          "scatter3d": [
           {
            "line": {
             "colorbar": {
              "outlinewidth": 0,
              "ticks": ""
             }
            },
            "marker": {
             "colorbar": {
              "outlinewidth": 0,
              "ticks": ""
             }
            },
            "type": "scatter3d"
           }
          ],
          "scattercarpet": [
           {
            "marker": {
             "colorbar": {
              "outlinewidth": 0,
              "ticks": ""
             }
            },
            "type": "scattercarpet"
           }
          ],
          "scattergeo": [
           {
            "marker": {
             "colorbar": {
              "outlinewidth": 0,
              "ticks": ""
             }
            },
            "type": "scattergeo"
           }
          ],
          "scattergl": [
           {
            "marker": {
             "colorbar": {
              "outlinewidth": 0,
              "ticks": ""
             }
            },
            "type": "scattergl"
           }
          ],
          "scattermap": [
           {
            "marker": {
             "colorbar": {
              "outlinewidth": 0,
              "ticks": ""
             }
            },
            "type": "scattermap"
           }
          ],
          "scattermapbox": [
           {
            "marker": {
             "colorbar": {
              "outlinewidth": 0,
              "ticks": ""
             }
            },
            "type": "scattermapbox"
           }
          ],
          "scatterpolar": [
           {
            "marker": {
             "colorbar": {
              "outlinewidth": 0,
              "ticks": ""
             }
            },
            "type": "scatterpolar"
           }
          ],
          "scatterpolargl": [
           {
            "marker": {
             "colorbar": {
              "outlinewidth": 0,
              "ticks": ""
             }
            },
            "type": "scatterpolargl"
           }
          ],
          "scatterternary": [
           {
            "marker": {
             "colorbar": {
              "outlinewidth": 0,
              "ticks": ""
             }
            },
            "type": "scatterternary"
           }
          ],
          "surface": [
           {
            "colorbar": {
             "outlinewidth": 0,
             "ticks": ""
            },
            "colorscale": [
             [
              0,
              "#0d0887"
             ],
             [
              0.1111111111111111,
              "#46039f"
             ],
             [
              0.2222222222222222,
              "#7201a8"
             ],
             [
              0.3333333333333333,
              "#9c179e"
             ],
             [
              0.4444444444444444,
              "#bd3786"
             ],
             [
              0.5555555555555556,
              "#d8576b"
             ],
             [
              0.6666666666666666,
              "#ed7953"
             ],
             [
              0.7777777777777778,
              "#fb9f3a"
             ],
             [
              0.8888888888888888,
              "#fdca26"
             ],
             [
              1,
              "#f0f921"
             ]
            ],
            "type": "surface"
           }
          ],
          "table": [
           {
            "cells": {
             "fill": {
              "color": "#EBF0F8"
             },
             "line": {
              "color": "white"
             }
            },
            "header": {
             "fill": {
              "color": "#C8D4E3"
             },
             "line": {
              "color": "white"
             }
            },
            "type": "table"
           }
          ]
         },
         "layout": {
          "annotationdefaults": {
           "arrowcolor": "#2a3f5f",
           "arrowhead": 0,
           "arrowwidth": 1
          },
          "autotypenumbers": "strict",
          "coloraxis": {
           "colorbar": {
            "outlinewidth": 0,
            "ticks": ""
           }
          },
          "colorscale": {
           "diverging": [
            [
             0,
             "#8e0152"
            ],
            [
             0.1,
             "#c51b7d"
            ],
            [
             0.2,
             "#de77ae"
            ],
            [
             0.3,
             "#f1b6da"
            ],
            [
             0.4,
             "#fde0ef"
            ],
            [
             0.5,
             "#f7f7f7"
            ],
            [
             0.6,
             "#e6f5d0"
            ],
            [
             0.7,
             "#b8e186"
            ],
            [
             0.8,
             "#7fbc41"
            ],
            [
             0.9,
             "#4d9221"
            ],
            [
             1,
             "#276419"
            ]
           ],
           "sequential": [
            [
             0,
             "#0d0887"
            ],
            [
             0.1111111111111111,
             "#46039f"
            ],
            [
             0.2222222222222222,
             "#7201a8"
            ],
            [
             0.3333333333333333,
             "#9c179e"
            ],
            [
             0.4444444444444444,
             "#bd3786"
            ],
            [
             0.5555555555555556,
             "#d8576b"
            ],
            [
             0.6666666666666666,
             "#ed7953"
            ],
            [
             0.7777777777777778,
             "#fb9f3a"
            ],
            [
             0.8888888888888888,
             "#fdca26"
            ],
            [
             1,
             "#f0f921"
            ]
           ],
           "sequentialminus": [
            [
             0,
             "#0d0887"
            ],
            [
             0.1111111111111111,
             "#46039f"
            ],
            [
             0.2222222222222222,
             "#7201a8"
            ],
            [
             0.3333333333333333,
             "#9c179e"
            ],
            [
             0.4444444444444444,
             "#bd3786"
            ],
            [
             0.5555555555555556,
             "#d8576b"
            ],
            [
             0.6666666666666666,
             "#ed7953"
            ],
            [
             0.7777777777777778,
             "#fb9f3a"
            ],
            [
             0.8888888888888888,
             "#fdca26"
            ],
            [
             1,
             "#f0f921"
            ]
           ]
          },
          "colorway": [
           "#636efa",
           "#EF553B",
           "#00cc96",
           "#ab63fa",
           "#FFA15A",
           "#19d3f3",
           "#FF6692",
           "#B6E880",
           "#FF97FF",
           "#FECB52"
          ],
          "font": {
           "color": "#2a3f5f"
          },
          "geo": {
           "bgcolor": "white",
           "lakecolor": "white",
           "landcolor": "#E5ECF6",
           "showlakes": true,
           "showland": true,
           "subunitcolor": "white"
          },
          "hoverlabel": {
           "align": "left"
          },
          "hovermode": "closest",
          "mapbox": {
           "style": "light"
          },
          "paper_bgcolor": "white",
          "plot_bgcolor": "#E5ECF6",
          "polar": {
           "angularaxis": {
            "gridcolor": "white",
            "linecolor": "white",
            "ticks": ""
           },
           "bgcolor": "#E5ECF6",
           "radialaxis": {
            "gridcolor": "white",
            "linecolor": "white",
            "ticks": ""
           }
          },
          "scene": {
           "xaxis": {
            "backgroundcolor": "#E5ECF6",
            "gridcolor": "white",
            "gridwidth": 2,
            "linecolor": "white",
            "showbackground": true,
            "ticks": "",
            "zerolinecolor": "white"
           },
           "yaxis": {
            "backgroundcolor": "#E5ECF6",
            "gridcolor": "white",
            "gridwidth": 2,
            "linecolor": "white",
            "showbackground": true,
            "ticks": "",
            "zerolinecolor": "white"
           },
           "zaxis": {
            "backgroundcolor": "#E5ECF6",
            "gridcolor": "white",
            "gridwidth": 2,
            "linecolor": "white",
            "showbackground": true,
            "ticks": "",
            "zerolinecolor": "white"
           }
          },
          "shapedefaults": {
           "line": {
            "color": "#2a3f5f"
           }
          },
          "ternary": {
           "aaxis": {
            "gridcolor": "white",
            "linecolor": "white",
            "ticks": ""
           },
           "baxis": {
            "gridcolor": "white",
            "linecolor": "white",
            "ticks": ""
           },
           "bgcolor": "#E5ECF6",
           "caxis": {
            "gridcolor": "white",
            "linecolor": "white",
            "ticks": ""
           }
          },
          "title": {
           "x": 0.05
          },
          "xaxis": {
           "automargin": true,
           "gridcolor": "white",
           "linecolor": "white",
           "ticks": "",
           "title": {
            "standoff": 15
           },
           "zerolinecolor": "white",
           "zerolinewidth": 2
          },
          "yaxis": {
           "automargin": true,
           "gridcolor": "white",
           "linecolor": "white",
           "ticks": "",
           "title": {
            "standoff": 15
           },
           "zerolinecolor": "white",
           "zerolinewidth": 2
          }
         }
        },
        "title": {
         "text": "Daily High and Low Temperatures at Mill D North, Big Cottonwood Canyon, UT"
        },
        "xaxis": {
         "anchor": "y",
         "domain": [
          0,
          1
         ],
         "title": {
          "text": "Date"
         }
        },
        "yaxis": {
         "anchor": "x",
         "domain": [
          0,
          1
         ],
         "title": {
          "text": "Temperature (°C)"
         }
        }
       }
      },
      "image/png": "[encoded data removed]"
     },
     "metadata": {},
     "output_type": "display_data"
    }
   ],
   "source": [
    "import plotly.express as px\n",
    "fig = px.line(\n",
    "    mill_d_hilow_df,\n",
    "    x=\"DATE\",\n",
    "    y=[\"TMIN\", \"TMAX\"],\n",
    "    labels={\"value\": \"Temperature (°C)\", \"variable\": \"Temperature Type\"},\n",
    "    title=\"Daily High and Low Temperatures at Mill D North, Big Cottonwood Canyon, UT\",\n",
    ")\n",
    "fig.update_layout(\n",
    "    xaxis_title=\"Date\",\n",
    "    yaxis_title=\"Temperature (°C)\",\n",
    "    legend_title=\"Temperature Type\",\n",
    ")\n",
    "fig.show()"
   ]
  },
  {
   "cell_type": "markdown",
   "metadata": {},
   "source": [
    "## Example Analysis\n",
    "\n",
    "At this point, we can start doing some analysis on the data. For example, to inspect the relationship between temperatures and snow depth we could do the following: Join the snow depth and temperature dataframes on date."
   ]
  },
  {
   "cell_type": "code",
   "execution_count": 13,
   "metadata": {},
   "outputs": [],
   "source": [
    "mill_d_combined_df = pd.merge(\n",
    "    mill_d_sd_df, mill_d_hilow_df, on=[\"DATE\", \"STATION\"], how=\"inner\"\n",
    ")"
   ]
  },
  {
   "cell_type": "markdown",
   "metadata": {},
   "source": [
    "And let's subset the data to just the winter and spring months of the 2023/2024 season to make the graph I'm thinking of making easier to look at:"
   ]
  },
  {
   "cell_type": "code",
   "execution_count": 14,
   "metadata": {},
   "outputs": [],
   "source": [
    "winter_2024 = mill_d_combined_df[\n",
    "    (mill_d_combined_df[\"DATE\"] >= \"2023-12-01\")\n",
    "    & (mill_d_combined_df[\"DATE\"] < \"2024-05-01\")\n",
    "].copy()"
   ]
  },
  {
   "cell_type": "markdown",
   "metadata": {},
   "source": [
    "And now we can create a plot showing both temperature and snow depth on the same chart with dual y-axes:"
   ]
  },
  {
   "cell_type": "code",
   "execution_count": 15,
   "metadata": {},
   "outputs": [
    {
     "data": {
      "application/vnd.plotly.v1+json": {
       "config": {
        "plotlyServerURL": "https://plot.ly"
       },
       "data": [
        {
         "hovertemplate": "Temperature Type=TMIN<br>DATE=%{x}<br>Temperature (°C)=%{y}<extra></extra>",
         "legendgroup": "TMIN",
         "line": {
          "color": "#636efa",
          "dash": "solid"
         },
         "marker": {
          "symbol": "circle"
         },
         "mode": "lines",
         "name": "TMIN",
         "orientation": "v",
         "showlegend": true,
         "type": "scatter",
         "x": [
          "2023-12-01T00:00:00",
          "2023-12-02T00:00:00",
          "2023-12-03T00:00:00",
          "2023-12-04T00:00:00",
          "2023-12-05T00:00:00",
          "2023-12-06T00:00:00",
          "2023-12-07T00:00:00",
          "2023-12-08T00:00:00",
          "2023-12-09T00:00:00",
          "2023-12-10T00:00:00",
          "2023-12-11T00:00:00",
          "2023-12-12T00:00:00",
          "2023-12-13T00:00:00",
          "2023-12-14T00:00:00",
          "2023-12-15T00:00:00",
          "2023-12-16T00:00:00",
          "2023-12-17T00:00:00",
          "2023-12-18T00:00:00",
          "2023-12-19T00:00:00",
          "2023-12-20T00:00:00",
          "2023-12-21T00:00:00",
          "2023-12-22T00:00:00",
          "2023-12-23T00:00:00",
          "2023-12-24T00:00:00",
          "2023-12-25T00:00:00",
          "2023-12-26T00:00:00",
          "2023-12-27T00:00:00",
          "2023-12-28T00:00:00",
          "2023-12-29T00:00:00",
          "2023-12-30T00:00:00",
          "2023-12-31T00:00:00",
          "2024-01-01T00:00:00",
          "2024-01-02T00:00:00",
          "2024-01-03T00:00:00",
          "2024-01-04T00:00:00",
          "2024-01-05T00:00:00",
          "2024-01-06T00:00:00",
          "2024-01-07T00:00:00",
          "2024-01-08T00:00:00",
          "2024-01-09T00:00:00",
          "2024-01-10T00:00:00",
          "2024-01-11T00:00:00",
          "2024-01-12T00:00:00",
          "2024-01-13T00:00:00",
          "2024-01-14T00:00:00",
          "2024-01-15T00:00:00",
          "2024-01-16T00:00:00",
          "2024-01-17T00:00:00",
          "2024-01-18T00:00:00",
          "2024-01-19T00:00:00",
          "2024-01-20T00:00:00",
          "2024-01-21T00:00:00",
          "2024-01-22T00:00:00",
          "2024-01-23T00:00:00",
          "2024-01-24T00:00:00",
          "2024-01-25T00:00:00",
          "2024-01-26T00:00:00",
          "2024-01-27T00:00:00",
          "2024-01-28T00:00:00",
          "2024-01-29T00:00:00",
          "2024-01-30T00:00:00",
          "2024-01-31T00:00:00",
          "2024-02-01T00:00:00",
          "2024-02-02T00:00:00",
          "2024-02-03T00:00:00",
          "2024-02-04T00:00:00",
          "2024-02-05T00:00:00",
          "2024-02-06T00:00:00",
          "2024-02-07T00:00:00",
          "2024-02-08T00:00:00",
          "2024-02-09T00:00:00",
          "2024-02-10T00:00:00",
          "2024-02-11T00:00:00",
          "2024-02-12T00:00:00",
          "2024-02-13T00:00:00",
          "2024-02-14T00:00:00",
          "2024-02-15T00:00:00",
          "2024-02-16T00:00:00",
          "2024-02-17T00:00:00",
          "2024-02-18T00:00:00",
          "2024-02-19T00:00:00",
          "2024-02-20T00:00:00",
          "2024-02-21T00:00:00",
          "2024-02-22T00:00:00",
          "2024-02-23T00:00:00",
          "2024-02-24T00:00:00",
          "2024-02-25T00:00:00",
          "2024-02-26T00:00:00",
          "2024-02-27T00:00:00",
          "2024-02-28T00:00:00",
          "2024-02-29T00:00:00",
          "2024-03-01T00:00:00",
          "2024-03-02T00:00:00",
          "2024-03-03T00:00:00",
          "2024-03-04T00:00:00",
          "2024-03-05T00:00:00",
          "2024-03-06T00:00:00",
          "2024-03-07T00:00:00",
          "2024-03-08T00:00:00",
          "2024-03-09T00:00:00",
          "2024-03-10T00:00:00",
          "2024-03-11T00:00:00",
          "2024-03-12T00:00:00",
          "2024-03-13T00:00:00",
          "2024-03-14T00:00:00",
          "2024-03-15T00:00:00",
          "2024-03-16T00:00:00",
          "2024-03-17T00:00:00",
          "2024-03-18T00:00:00",
          "2024-03-19T00:00:00",
          "2024-03-20T00:00:00",
          "2024-03-21T00:00:00",
          "2024-03-22T00:00:00",
          "2024-03-23T00:00:00",
          "2024-03-24T00:00:00",
          "2024-03-25T00:00:00",
          "2024-03-26T00:00:00",
          "2024-03-27T00:00:00",
          "2024-03-28T00:00:00",
          "2024-03-29T00:00:00",
          "2024-03-30T00:00:00",
          "2024-03-31T00:00:00",
          "2024-04-01T00:00:00",
          "2024-04-02T00:00:00",
          "2024-04-03T00:00:00",
          "2024-04-04T00:00:00",
          "2024-04-05T00:00:00",
          "2024-04-06T00:00:00",
          "2024-04-07T00:00:00",
          "2024-04-08T00:00:00",
          "2024-04-09T00:00:00",
          "2024-04-10T00:00:00",
          "2024-04-11T00:00:00",
          "2024-04-12T00:00:00",
          "2024-04-13T00:00:00",
          "2024-04-14T00:00:00",
          "2024-04-15T00:00:00",
          "2024-04-16T00:00:00",
          "2024-04-17T00:00:00",
          "2024-04-18T00:00:00",
          "2024-04-19T00:00:00",
          "2024-04-20T00:00:00",
          "2024-04-21T00:00:00",
          "2024-04-22T00:00:00",
          "2024-04-23T00:00:00",
          "2024-04-24T00:00:00",
          "2024-04-25T00:00:00",
          "2024-04-26T00:00:00",
          "2024-04-27T00:00:00",
          "2024-04-28T00:00:00",
          "2024-04-29T00:00:00",
          "2024-04-30T00:00:00"
         ],
         "xaxis": "x",
         "y": {
          "bdata": "zczMzMzMJsBmZmZmZmYjwAAAAAAAABLAmpmZmZmZEcCamZmZmZkTwAAAAAAAAARAMzMzMzMzH8AAAAAAAAArwAAAAAAAAC3AmpmZmZmZIcAzMzMzMzMDwGZmZmZmZhzAMzMzMzMzIMBmZmZmZmYSwGZmZmZmZg7AAAAAAAAAAAAAAAAAAAAAADMzMzMzM/s/MzMzMzMz479mZmZmZmbmv2ZmZmZmZua/ZmZmZmZm9r8zMzMzMzMpwAAAAAAAAC7AAAAAAAAALMDNzMzMzMwtwDMzMzMzMyTAAAAAAAAADMCamZmZmZnJvzMzMzMzM9O/zczMzMzMHMDNzMzMzMwYwJqZmZmZmR3AZmZmZmZmHMAAAAAAAAAjwJqZmZmZmTDAZmZmZmZmKsAAAAAAAAAuwGZmZmZmZjDAmpmZmZmZLcDNzMzMzMwtwAAAAAAAAC/AZmZmZmZmLcAzMzMzMzMqwGZmZmZmZh7AzczMzMzMKsAAAAAAAAArwDMzMzMzMxfAzczMzMzMFMAzMzMzMzMPwM3MzMzMzAjAAAAAAAAAEsCamZmZmZkVwJqZmZmZmRHAZmZmZmZmGMDNzMzMzMwawM3MzMzMzCDAzczMzMzMGMAAAAAAAADwvwAAAAAAAAAAMzMzMzMz07+amZmZmZnZP83MzMzMzPS/mpmZmZmZGcCamZmZmZkiwDMzMzMzMyfAAAAAAAAAEMCamZmZmZkNwJqZmZmZmR/AAAAAAAAAIcBmZmZmZmYrwGZmZmZmZi7AmpmZmZmZL8DNzMzMzMwgwGZmZmZmZhjAmpmZmZmZGcDNzMzMzMwawM3MzMzMzCXAZmZmZmZmKMDNzMzMzMwYwGZmZmZmZg7AAAAAAAAABMBmZmZmZmYYwJqZmZmZmR/AZmZmZmZmIMAAAAAAAAAUwM3MzMzMzATAAAAAAAAAI8CamZmZmZktwDMzMzMzMyvAAAAAAAAABMCamZmZmZkBwJqZmZmZmSvAZmZmZmZmK8AzMzMzMzMqwDMzMzMzMybAMzMzMzMzE8AAAAAAAAAkwDMzMzMzMyrAmpmZmZmZHcAzMzMzMzMLwAAAAAAAABDAAAAAAAAAFsDNzMzMzMwowAAAAAAAACXAZmZmZmZmI8AzMzMzMzMRwGZmZmZmZhDAzczMzMzM9L+amZmZmZnZP5qZmZmZmbm/MzMzMzMz07/NzMzMzMz0vzMzMzMzMxnAzczMzMzMHMAzMzMzMzMgwM3MzMzMzCDAAAAAAAAAIcDNzMzMzMwawDMzMzMzMxnAZmZmZmZmEMAAAAAAAAAcwJqZmZmZmR3AZmZmZmZmGMCamZmZmZnZv5qZmZmZmQFAZmZmZmZmIsCamZmZmZkjwAAAAAAAACPAzczMzMzMIsAzMzMzMzMfwM3MzMzMzPy/AAAAAAAAAADNzMzMzMwUQGZmZmZmZgpAAAAAAAAAAMCamZmZmZkFwM3MzMzMzPy/AAAAAAAAEsAAAAAAAAAWwDMzMzMzM+O/mpmZmZmZ8T+amZmZmZkJQM3MzMzMzAxAmpmZmZmZEUAzMzMzMzMPQAAAAAAAAAAAmpmZmZmZ6b9mZmZmZmYCwAAAAAAAAATAAAAAAAAABMDNzMzMzMwawA==",
          "dtype": "f8"
         },
         "yaxis": "y"
        },
        {
         "hovertemplate": "Temperature Type=TMAX<br>DATE=%{x}<br>Temperature (°C)=%{y}<extra></extra>",
         "legendgroup": "TMAX",
         "line": {
          "color": "#EF553B",
          "dash": "solid"
         },
         "marker": {
          "symbol": "circle"
         },
         "mode": "lines",
         "name": "TMAX",
         "orientation": "v",
         "showlegend": true,
         "type": "scatter",
         "x": [
          "2023-12-01T00:00:00",
          "2023-12-02T00:00:00",
          "2023-12-03T00:00:00",
          "2023-12-04T00:00:00",
          "2023-12-05T00:00:00",
          "2023-12-06T00:00:00",
          "2023-12-07T00:00:00",
          "2023-12-08T00:00:00",
          "2023-12-09T00:00:00",
          "2023-12-10T00:00:00",
          "2023-12-11T00:00:00",
          "2023-12-12T00:00:00",
          "2023-12-13T00:00:00",
          "2023-12-14T00:00:00",
          "2023-12-15T00:00:00",
          "2023-12-16T00:00:00",
          "2023-12-17T00:00:00",
          "2023-12-18T00:00:00",
          "2023-12-19T00:00:00",
          "2023-12-20T00:00:00",
          "2023-12-21T00:00:00",
          "2023-12-22T00:00:00",
          "2023-12-23T00:00:00",
          "2023-12-24T00:00:00",
          "2023-12-25T00:00:00",
          "2023-12-26T00:00:00",
          "2023-12-27T00:00:00",
          "2023-12-28T00:00:00",
          "2023-12-29T00:00:00",
          "2023-12-30T00:00:00",
          "2023-12-31T00:00:00",
          "2024-01-01T00:00:00",
          "2024-01-02T00:00:00",
          "2024-01-03T00:00:00",
          "2024-01-04T00:00:00",
          "2024-01-05T00:00:00",
          "2024-01-06T00:00:00",
          "2024-01-07T00:00:00",
          "2024-01-08T00:00:00",
          "2024-01-09T00:00:00",
          "2024-01-10T00:00:00",
          "2024-01-11T00:00:00",
          "2024-01-12T00:00:00",
          "2024-01-13T00:00:00",
          "2024-01-14T00:00:00",
          "2024-01-15T00:00:00",
          "2024-01-16T00:00:00",
          "2024-01-17T00:00:00",
          "2024-01-18T00:00:00",
          "2024-01-19T00:00:00",
          "2024-01-20T00:00:00",
          "2024-01-21T00:00:00",
          "2024-01-22T00:00:00",
          "2024-01-23T00:00:00",
          "2024-01-24T00:00:00",
          "2024-01-25T00:00:00",
          "2024-01-26T00:00:00",
          "2024-01-27T00:00:00",
          "2024-01-28T00:00:00",
          "2024-01-29T00:00:00",
          "2024-01-30T00:00:00",
          "2024-01-31T00:00:00",
          "2024-02-01T00:00:00",
          "2024-02-02T00:00:00",
          "2024-02-03T00:00:00",
          "2024-02-04T00:00:00",
          "2024-02-05T00:00:00",
          "2024-02-06T00:00:00",
          "2024-02-07T00:00:00",
          "2024-02-08T00:00:00",
          "2024-02-09T00:00:00",
          "2024-02-10T00:00:00",
          "2024-02-11T00:00:00",
          "2024-02-12T00:00:00",
          "2024-02-13T00:00:00",
          "2024-02-14T00:00:00",
          "2024-02-15T00:00:00",
          "2024-02-16T00:00:00",
          "2024-02-17T00:00:00",
          "2024-02-18T00:00:00",
          "2024-02-19T00:00:00",
          "2024-02-20T00:00:00",
          "2024-02-21T00:00:00",
          "2024-02-22T00:00:00",
          "2024-02-23T00:00:00",
          "2024-02-24T00:00:00",
          "2024-02-25T00:00:00",
          "2024-02-26T00:00:00",
          "2024-02-27T00:00:00",
          "2024-02-28T00:00:00",
          "2024-02-29T00:00:00",
          "2024-03-01T00:00:00",
          "2024-03-02T00:00:00",
          "2024-03-03T00:00:00",
          "2024-03-04T00:00:00",
          "2024-03-05T00:00:00",
          "2024-03-06T00:00:00",
          "2024-03-07T00:00:00",
          "2024-03-08T00:00:00",
          "2024-03-09T00:00:00",
          "2024-03-10T00:00:00",
          "2024-03-11T00:00:00",
          "2024-03-12T00:00:00",
          "2024-03-13T00:00:00",
          "2024-03-14T00:00:00",
          "2024-03-15T00:00:00",
          "2024-03-16T00:00:00",
          "2024-03-17T00:00:00",
          "2024-03-18T00:00:00",
          "2024-03-19T00:00:00",
          "2024-03-20T00:00:00",
          "2024-03-21T00:00:00",
          "2024-03-22T00:00:00",
          "2024-03-23T00:00:00",
          "2024-03-24T00:00:00",
          "2024-03-25T00:00:00",
          "2024-03-26T00:00:00",
          "2024-03-27T00:00:00",
          "2024-03-28T00:00:00",
          "2024-03-29T00:00:00",
          "2024-03-30T00:00:00",
          "2024-03-31T00:00:00",
          "2024-04-01T00:00:00",
          "2024-04-02T00:00:00",
          "2024-04-03T00:00:00",
          "2024-04-04T00:00:00",
          "2024-04-05T00:00:00",
          "2024-04-06T00:00:00",
          "2024-04-07T00:00:00",
          "2024-04-08T00:00:00",
          "2024-04-09T00:00:00",
          "2024-04-10T00:00:00",
          "2024-04-11T00:00:00",
          "2024-04-12T00:00:00",
          "2024-04-13T00:00:00",
          "2024-04-14T00:00:00",
          "2024-04-15T00:00:00",
          "2024-04-16T00:00:00",
          "2024-04-17T00:00:00",
          "2024-04-18T00:00:00",
          "2024-04-19T00:00:00",
          "2024-04-20T00:00:00",
          "2024-04-21T00:00:00",
          "2024-04-22T00:00:00",
          "2024-04-23T00:00:00",
          "2024-04-24T00:00:00",
          "2024-04-25T00:00:00",
          "2024-04-26T00:00:00",
          "2024-04-27T00:00:00",
          "2024-04-28T00:00:00",
          "2024-04-29T00:00:00",
          "2024-04-30T00:00:00"
         ],
         "xaxis": "x",
         "y": {
          "bdata": "zczMzMzMGsAAAAAAAAASwJqZmZmZmfm/AAAAAAAA+D9mZmZmZmYiQJqZmZmZmSVAmpmZmZmZBUDNzMzMzMwcwJqZmZmZmfm/AAAAAAAAAEDNzMzMzMwSQM3MzMzMzBJAmpmZmZmZAUAAAAAAAAAYQDMzMzMzMyJAZmZmZmZmI0AzMzMzMzMkQDMzMzMzMyJAAAAAAAAAFkCamZmZmZkZQJqZmZmZmRlAZmZmZmZmEECamZmZmZnxvzMzMzMzMxfAzczMzMzMBMCamZmZmZnxPzMzMzMzMxdAmpmZmZmZH0AAAAAAAAAjQM3MzMzMzBJAAAAAAAAAIECamZmZmZkRQJqZmZmZmQlAMzMzMzMzB0AzMzMzMzMTwM3MzMzMzBrAAAAAAAAAEMAzMzMzMzMkwDMzMzMzMxHAZmZmZmZmGMAAAAAAAAAjwDMzMzMzMyfAAAAAAAAAIsBmZmZmZmYOwGZmZmZmZg7AMzMzMzMzHcAAAAAAAAAAwM3MzMzMzPy/mpmZmZmZ+b8AAAAAAAAcQGZmZmZmZhBAmpmZmZmZ2b9mZmZmZmYCQDMzMzMzM/M/mpmZmZmZ2b+amZmZmZkFwJqZmZmZmbk/ZmZmZmZmFEAzMzMzMzMkQAAAAAAAACJAzczMzMzMKEAzMzMzMzMgQJqZmZmZmRVAmpmZmZmZyb9mZmZmZmYSwDMzMzMzM9M/ZmZmZmZm5j8AAAAAAADgP2ZmZmZmZgLAZmZmZmZm5r8zMzMzMzMLwAAAAAAAAAjAAAAAAAAAAACamZmZmZnxvwAAAAAAAARAAAAAAAAA+L8zMzMzMzMHwM3MzMzMzBLAZmZmZmZmAkAAAAAAAAAAAGZmZmZmZhJAmpmZmZmZ2T+amZmZmZnZv5qZmZmZmQVAzczMzMzMAEAAAAAAAAASQM3MzMzMzBBAZmZmZmZmAkDNzMzMzMwiwGZmZmZmZuY/mpmZmZmZFUAAAAAAAAAEQJqZmZmZmfG/MzMzMzMzIcAAAAAAAAAhwJqZmZmZmfG/AAAAAAAAAECamZmZmZm5v2ZmZmZmZva/AAAAAAAAIUDNzMzMzMwgQAAAAAAAAPg/mpmZmZmZub9mZmZmZmYQwAAAAAAAAPi/MzMzMzMzA0BmZmZmZmYWQM3MzMzMzCBAmpmZmZmZI0AzMzMzMzMiQDMzMzMzMyBAMzMzMzMzF0DNzMzMzMwgQAAAAAAAABBAzczMzMzM/L9mZmZmZmbmPzMzMzMzMxHAmpmZmZmZ2b8zMzMzMzPjv5qZmZmZmQ1AMzMzMzMz0z+amZmZmZnZv5qZmZmZmfE/AAAAAAAAGkCamZmZmZkoQGZmZmZmZiRAzczMzMzMFEAAAAAAAAAYwM3MzMzMzAjAzczMzMzMBEBmZmZmZmYGQM3MzMzMzBZAzczMzMzMJEBmZmZmZmYrQDMzMzMzMypAZmZmZmZmI0DNzMzMzMz8P2ZmZmZmZhRAmpmZmZmZDUAAAAAAAAAQQM3MzMzMzBxAAAAAAAAAIkDNzMzMzMwnQDMzMzMzMyVAzczMzMzMKkCamZmZmZkqQM3MzMzMzCJAAAAAAAAAFkDNzMzMzMwQQAAAAAAAABJAmpmZmZmZG0DNzMzMzMwWQA==",
          "dtype": "f8"
         },
         "yaxis": "y"
        },
        {
         "mode": "markers",
         "name": "Snow Depth (cm)",
         "type": "scatter",
         "x": [
          "2023-12-01T00:00:00",
          "2023-12-02T00:00:00",
          "2023-12-03T00:00:00",
          "2023-12-04T00:00:00",
          "2023-12-05T00:00:00",
          "2023-12-06T00:00:00",
          "2023-12-07T00:00:00",
          "2023-12-08T00:00:00",
          "2023-12-09T00:00:00",
          "2023-12-10T00:00:00",
          "2023-12-11T00:00:00",
          "2023-12-12T00:00:00",
          "2023-12-13T00:00:00",
          "2023-12-14T00:00:00",
          "2023-12-15T00:00:00",
          "2023-12-16T00:00:00",
          "2023-12-17T00:00:00",
          "2023-12-18T00:00:00",
          "2023-12-19T00:00:00",
          "2023-12-20T00:00:00",
          "2023-12-21T00:00:00",
          "2023-12-22T00:00:00",
          "2023-12-23T00:00:00",
          "2023-12-24T00:00:00",
          "2023-12-25T00:00:00",
          "2023-12-26T00:00:00",
          "2023-12-27T00:00:00",
          "2023-12-28T00:00:00",
          "2023-12-29T00:00:00",
          "2023-12-30T00:00:00",
          "2023-12-31T00:00:00",
          "2024-01-01T00:00:00",
          "2024-01-02T00:00:00",
          "2024-01-03T00:00:00",
          "2024-01-04T00:00:00",
          "2024-01-05T00:00:00",
          "2024-01-06T00:00:00",
          "2024-01-07T00:00:00",
          "2024-01-08T00:00:00",
          "2024-01-09T00:00:00",
          "2024-01-10T00:00:00",
          "2024-01-11T00:00:00",
          "2024-01-12T00:00:00",
          "2024-01-13T00:00:00",
          "2024-01-14T00:00:00",
          "2024-01-15T00:00:00",
          "2024-01-16T00:00:00",
          "2024-01-17T00:00:00",
          "2024-01-18T00:00:00",
          "2024-01-19T00:00:00",
          "2024-01-20T00:00:00",
          "2024-01-21T00:00:00",
          "2024-01-22T00:00:00",
          "2024-01-23T00:00:00",
          "2024-01-24T00:00:00",
          "2024-01-25T00:00:00",
          "2024-01-26T00:00:00",
          "2024-01-27T00:00:00",
          "2024-01-28T00:00:00",
          "2024-01-29T00:00:00",
          "2024-01-30T00:00:00",
          "2024-01-31T00:00:00",
          "2024-02-01T00:00:00",
          "2024-02-02T00:00:00",
          "2024-02-03T00:00:00",
          "2024-02-04T00:00:00",
          "2024-02-05T00:00:00",
          "2024-02-06T00:00:00",
          "2024-02-07T00:00:00",
          "2024-02-08T00:00:00",
          "2024-02-09T00:00:00",
          "2024-02-10T00:00:00",
          "2024-02-11T00:00:00",
          "2024-02-12T00:00:00",
          "2024-02-13T00:00:00",
          "2024-02-14T00:00:00",
          "2024-02-15T00:00:00",
          "2024-02-16T00:00:00",
          "2024-02-17T00:00:00",
          "2024-02-18T00:00:00",
          "2024-02-19T00:00:00",
          "2024-02-20T00:00:00",
          "2024-02-21T00:00:00",
          "2024-02-22T00:00:00",
          "2024-02-23T00:00:00",
          "2024-02-24T00:00:00",
          "2024-02-25T00:00:00",
          "2024-02-26T00:00:00",
          "2024-02-27T00:00:00",
          "2024-02-28T00:00:00",
          "2024-02-29T00:00:00",
          "2024-03-01T00:00:00",
          "2024-03-02T00:00:00",
          "2024-03-03T00:00:00",
          "2024-03-04T00:00:00",
          "2024-03-05T00:00:00",
          "2024-03-06T00:00:00",
          "2024-03-07T00:00:00",
          "2024-03-08T00:00:00",
          "2024-03-09T00:00:00",
          "2024-03-10T00:00:00",
          "2024-03-11T00:00:00",
          "2024-03-12T00:00:00",
          "2024-03-13T00:00:00",
          "2024-03-14T00:00:00",
          "2024-03-15T00:00:00",
          "2024-03-16T00:00:00",
          "2024-03-17T00:00:00",
          "2024-03-18T00:00:00",
          "2024-03-19T00:00:00",
          "2024-03-20T00:00:00",
          "2024-03-21T00:00:00",
          "2024-03-22T00:00:00",
          "2024-03-23T00:00:00",
          "2024-03-24T00:00:00",
          "2024-03-25T00:00:00",
          "2024-03-26T00:00:00",
          "2024-03-27T00:00:00",
          "2024-03-28T00:00:00",
          "2024-03-29T00:00:00",
          "2024-03-30T00:00:00",
          "2024-03-31T00:00:00",
          "2024-04-01T00:00:00",
          "2024-04-02T00:00:00",
          "2024-04-03T00:00:00",
          "2024-04-04T00:00:00",
          "2024-04-05T00:00:00",
          "2024-04-06T00:00:00",
          "2024-04-07T00:00:00",
          "2024-04-08T00:00:00",
          "2024-04-09T00:00:00",
          "2024-04-10T00:00:00",
          "2024-04-11T00:00:00",
          "2024-04-12T00:00:00",
          "2024-04-13T00:00:00",
          "2024-04-14T00:00:00",
          "2024-04-15T00:00:00",
          "2024-04-16T00:00:00",
          "2024-04-17T00:00:00",
          "2024-04-18T00:00:00",
          "2024-04-19T00:00:00",
          "2024-04-20T00:00:00",
          "2024-04-21T00:00:00",
          "2024-04-22T00:00:00",
          "2024-04-23T00:00:00",
          "2024-04-24T00:00:00",
          "2024-04-25T00:00:00",
          "2024-04-26T00:00:00",
          "2024-04-27T00:00:00",
          "2024-04-28T00:00:00",
          "2024-04-29T00:00:00",
          "2024-04-30T00:00:00"
         ],
         "y": {
          "bdata": "zczMzMxMREAzMzMzM/NLQM3MzMzMbFJAZmZmZmYmUUAAAAAAAMBPQAAAAAAAgE5AAAAAAADAT0CamZmZmdlWQJqZmZmZmVVAzczMzMysU0DNzMzMzAxTQM3MzMzMbFJAZmZmZmbGUUBmZmZmZsZRQGZmZmZmJlFAZmZmZmYmUUAAAAAAAIBQQAAAAAAAwE9AAAAAAACAUEAAAAAAAIBQQAAAAAAAgFBAAAAAAACAUEDNzMzMzAxTQM3MzMzMDFNAzczMzMxsUkDNzMzMzGxSQGZmZmZmxlFAZmZmZmbGUUBmZmZmZsZRQGZmZmZmxlFAZmZmZmbGUUBmZmZmZiZRQGZmZmZmJlFAZmZmZmYmUUDNzMzMzAxTQDMzMzMz81RAmpmZmZk5VkBmZmZmZmZZQAAAAAAAgFdAZmZmZmYGWkAzMzMzM5NcQJqZmZmZ2V1AMzMzMzMzXUAzMzMzM4NgQGZmZmZmdmFAMzMzMzPTYEAzMzMzM4NgQJqZmZmZaWJAZmZmZmbGYUBmZmZmZiZhQGZmZmZmJmFAZmZmZmZ2YUAzMzMzM9NgQDMzMzMzg2BAMzMzMzODYEAzMzMzM9NgQDMzMzMzg2BAMzMzMzODYEAAAAAAAMBfQAAAAAAAIF9AmpmZmZl5XkCamZmZmdldQJqZmZmZ2V1AAAAAAAAwYEBmZmZmZsZhQGZmZmZmJmFAmpmZmZkZYkAAAAAAALBjQGZmZmZmRmVAzczMzMwsZ0AAAAAAACBoQM3MzMzMLGdAmpmZmZnpZUBmZmZmZkZlQDMzMzMz82RAZmZmZmZGZUDNzMzMzNxmQAAAAAAA0GdAzczMzMzcZkAAAAAAAIBnQAAAAAAAgGdAAAAAAACAZ0AzMzMzM8NoQAAAAAAAgGdAzczMzMzcZkCamZmZmYlmQJqZmZmZ6WVAmpmZmZmJZkAAAAAAANBnQM3MzMzMLGdAmpmZmZmJZkCamZmZmTlmQDMzMzMzw2hAZmZmZmYWaUBmZmZmZrZpQGZmZmZmZmlAMzMzMzPDaEBmZmZmZmZpQDMzMzMzw2hAAAAAAADQZ0AAAAAAAIBnQAAAAAAAgGdAZmZmZma2aUDNzMzMzKxqQJqZmZmZWWpAZmZmZmZmaUAzMzMzM3NoQAAAAAAAgGdAmpmZmZmJZkCamZmZmellQGZmZmZmlmVAZmZmZmZGZUAzMzMzM/NkQAAAAAAAgGdAZmZmZmZmaUBmZmZmZhZpQM3MzMzMrGpAmpmZmZkJakDNzMzMzKxqQJqZmZmZCWpAzczMzMysakDNzMzMzExrQM3MzMzM/GpAZmZmZma2aUAzMzMzM3NoQAAAAAAA0GdAMzMzMzPDaEAAAAAAAKBrQM3MzMzM/GpAmpmZmZkJakBmZmZmZmZpQDMzMzMzc2hAAAAAAACAZ0DNzMzMzNxmQJqZmZmZOWZAZmZmZmaWZUDNzMzMzNxmQGZmZmZmlmVAMzMzMzPzZEAzMzMzM1NkQAAAAAAAAGRAAAAAAACwY0DNzMzMzAxjQJqZmZmZaWJAZmZmZmZ2YUAzMzMzM9NgQDMzMzMzg2BAZmZmZmZ2YUAzMzMzM9NgQDMzMzMzg2BAMzMzMzODYEAAAAAAAMBfQA==",
          "dtype": "f8"
         },
         "yaxis": "y2"
        }
       ],
       "layout": {
        "legend": {
         "title": {
          "text": "Temperature Type"
         },
         "tracegroupgap": 0
        },
        "template": {
         "data": {
          "bar": [
           {
            "error_x": {
             "color": "#2a3f5f"
            },
            "error_y": {
             "color": "#2a3f5f"
            },
            "marker": {
             "line": {
              "color": "#E5ECF6",
              "width": 0.5
             },
             "pattern": {
              "fillmode": "overlay",
              "size": 10,
              "solidity": 0.2
             }
            },
            "type": "bar"
           }
          ],
          "barpolar": [
           {
            "marker": {
             "line": {
              "color": "#E5ECF6",
              "width": 0.5
             },
             "pattern": {
              "fillmode": "overlay",
              "size": 10,
              "solidity": 0.2
             }
            },
            "type": "barpolar"
           }
          ],
          "carpet": [
           {
            "aaxis": {
             "endlinecolor": "#2a3f5f",
             "gridcolor": "white",
             "linecolor": "white",
             "minorgridcolor": "white",
             "startlinecolor": "#2a3f5f"
            },
            "baxis": {
             "endlinecolor": "#2a3f5f",
             "gridcolor": "white",
             "linecolor": "white",
             "minorgridcolor": "white",
             "startlinecolor": "#2a3f5f"
            },
            "type": "carpet"
           }
          ],
          "choropleth": [
           {
            "colorbar": {
             "outlinewidth": 0,
             "ticks": ""
            },
            "type": "choropleth"
           }
          ],
          "contour": [
           {
            "colorbar": {
             "outlinewidth": 0,
             "ticks": ""
            },
            "colorscale": [
             [
              0,
              "#0d0887"
             ],
             [
              0.1111111111111111,
              "#46039f"
             ],
             [
              0.2222222222222222,
              "#7201a8"
             ],
             [
              0.3333333333333333,
              "#9c179e"
             ],
             [
              0.4444444444444444,
              "#bd3786"
             ],
             [
              0.5555555555555556,
              "#d8576b"
             ],
             [
              0.6666666666666666,
              "#ed7953"
             ],
             [
              0.7777777777777778,
              "#fb9f3a"
             ],
             [
              0.8888888888888888,
              "#fdca26"
             ],
             [
              1,
              "#f0f921"
             ]
            ],
            "type": "contour"
           }
          ],
          "contourcarpet": [
           {
            "colorbar": {
             "outlinewidth": 0,
             "ticks": ""
            },
            "type": "contourcarpet"
           }
          ],
          "heatmap": [
           {
            "colorbar": {
             "outlinewidth": 0,
             "ticks": ""
            },
            "colorscale": [
             [
              0,
              "#0d0887"
             ],
             [
              0.1111111111111111,
              "#46039f"
             ],
             [
              0.2222222222222222,
              "#7201a8"
             ],
             [
              0.3333333333333333,
              "#9c179e"
             ],
             [
              0.4444444444444444,
              "#bd3786"
             ],
             [
              0.5555555555555556,
              "#d8576b"
             ],
             [
              0.6666666666666666,
              "#ed7953"
             ],
             [
              0.7777777777777778,
              "#fb9f3a"
             ],
             [
              0.8888888888888888,
              "#fdca26"
             ],
             [
              1,
              "#f0f921"
             ]
            ],
            "type": "heatmap"
           }
          ],
          "histogram": [
           {
            "marker": {
             "pattern": {
              "fillmode": "overlay",
              "size": 10,
              "solidity": 0.2
             }
            },
            "type": "histogram"
           }
          ],
          "histogram2d": [
           {
            "colorbar": {
             "outlinewidth": 0,
             "ticks": ""
            },
            "colorscale": [
             [
              0,
              "#0d0887"
             ],
             [
              0.1111111111111111,
              "#46039f"
             ],
             [
              0.2222222222222222,
              "#7201a8"
             ],
             [
              0.3333333333333333,
              "#9c179e"
             ],
             [
              0.4444444444444444,
              "#bd3786"
             ],
             [
              0.5555555555555556,
              "#d8576b"
             ],
             [
              0.6666666666666666,
              "#ed7953"
             ],
             [
              0.7777777777777778,
              "#fb9f3a"
             ],
             [
              0.8888888888888888,
              "#fdca26"
             ],
             [
              1,
              "#f0f921"
             ]
            ],
            "type": "histogram2d"
           }
          ],
          "histogram2dcontour": [
           {
            "colorbar": {
             "outlinewidth": 0,
             "ticks": ""
            },
            "colorscale": [
             [
              0,
              "#0d0887"
             ],
             [
              0.1111111111111111,
              "#46039f"
             ],
             [
              0.2222222222222222,
              "#7201a8"
             ],
             [
              0.3333333333333333,
              "#9c179e"
             ],
             [
              0.4444444444444444,
              "#bd3786"
             ],
             [
              0.5555555555555556,
              "#d8576b"
             ],
             [
              0.6666666666666666,
              "#ed7953"
             ],
             [
              0.7777777777777778,
              "#fb9f3a"
             ],
             [
              0.8888888888888888,
              "#fdca26"
             ],
             [
              1,
              "#f0f921"
             ]
            ],
            "type": "histogram2dcontour"
           }
          ],
          "mesh3d": [
           {
            "colorbar": {
             "outlinewidth": 0,
             "ticks": ""
            },
            "type": "mesh3d"
           }
          ],
          "parcoords": [
           {
            "line": {
             "colorbar": {
              "outlinewidth": 0,
              "ticks": ""
             }
            },
            "type": "parcoords"
           }
          ],
          "pie": [
           {
            "automargin": true,
            "type": "pie"
           }
          ],
          "scatter": [
           {
            "fillpattern": {
             "fillmode": "overlay",
             "size": 10,
             "solidity": 0.2
            },
            "type": "scatter"
           }
          ],
          "scatter3d": [
           {
            "line": {
             "colorbar": {
              "outlinewidth": 0,
              "ticks": ""
             }
            },
            "marker": {
             "colorbar": {
              "outlinewidth": 0,
              "ticks": ""
             }
            },
            "type": "scatter3d"
           }
          ],
          "scattercarpet": [
           {
            "marker": {
             "colorbar": {
              "outlinewidth": 0,
              "ticks": ""
             }
            },
            "type": "scattercarpet"
           }
          ],
          "scattergeo": [
           {
            "marker": {
             "colorbar": {
              "outlinewidth": 0,
              "ticks": ""
             }
            },
            "type": "scattergeo"
           }
          ],
          "scattergl": [
           {
            "marker": {
             "colorbar": {
              "outlinewidth": 0,
              "ticks": ""
             }
            },
            "type": "scattergl"
           }
          ],
          "scattermap": [
           {
            "marker": {
             "colorbar": {
              "outlinewidth": 0,
              "ticks": ""
             }
            },
            "type": "scattermap"
           }
          ],
          "scattermapbox": [
           {
            "marker": {
             "colorbar": {
              "outlinewidth": 0,
              "ticks": ""
             }
            },
            "type": "scattermapbox"
           }
          ],
          "scatterpolar": [
           {
            "marker": {
             "colorbar": {
              "outlinewidth": 0,
              "ticks": ""
             }
            },
            "type": "scatterpolar"
           }
          ],
          "scatterpolargl": [
           {
            "marker": {
             "colorbar": {
              "outlinewidth": 0,
              "ticks": ""
             }
            },
            "type": "scatterpolargl"
           }
          ],
          "scatterternary": [
           {
            "marker": {
             "colorbar": {
              "outlinewidth": 0,
              "ticks": ""
             }
            },
            "type": "scatterternary"
           }
          ],
          "surface": [
           {
            "colorbar": {
             "outlinewidth": 0,
             "ticks": ""
            },
            "colorscale": [
             [
              0,
              "#0d0887"
             ],
             [
              0.1111111111111111,
              "#46039f"
             ],
             [
              0.2222222222222222,
              "#7201a8"
             ],
             [
              0.3333333333333333,
              "#9c179e"
             ],
             [
              0.4444444444444444,
              "#bd3786"
             ],
             [
              0.5555555555555556,
              "#d8576b"
             ],
             [
              0.6666666666666666,
              "#ed7953"
             ],
             [
              0.7777777777777778,
              "#fb9f3a"
             ],
             [
              0.8888888888888888,
              "#fdca26"
             ],
             [
              1,
              "#f0f921"
             ]
            ],
            "type": "surface"
           }
          ],
          "table": [
           {
            "cells": {
             "fill": {
              "color": "#EBF0F8"
             },
             "line": {
              "color": "white"
             }
            },
            "header": {
             "fill": {
              "color": "#C8D4E3"
             },
             "line": {
              "color": "white"
             }
            },
            "type": "table"
           }
          ]
         },
         "layout": {
          "annotationdefaults": {
           "arrowcolor": "#2a3f5f",
           "arrowhead": 0,
           "arrowwidth": 1
          },
          "autotypenumbers": "strict",
          "coloraxis": {
           "colorbar": {
            "outlinewidth": 0,
            "ticks": ""
           }
          },
          "colorscale": {
           "diverging": [
            [
             0,
             "#8e0152"
            ],
            [
             0.1,
             "#c51b7d"
            ],
            [
             0.2,
             "#de77ae"
            ],
            [
             0.3,
             "#f1b6da"
            ],
            [
             0.4,
             "#fde0ef"
            ],
            [
             0.5,
             "#f7f7f7"
            ],
            [
             0.6,
             "#e6f5d0"
            ],
            [
             0.7,
             "#b8e186"
            ],
            [
             0.8,
             "#7fbc41"
            ],
            [
             0.9,
             "#4d9221"
            ],
            [
             1,
             "#276419"
            ]
           ],
           "sequential": [
            [
             0,
             "#0d0887"
            ],
            [
             0.1111111111111111,
             "#46039f"
            ],
            [
             0.2222222222222222,
             "#7201a8"
            ],
            [
             0.3333333333333333,
             "#9c179e"
            ],
            [
             0.4444444444444444,
             "#bd3786"
            ],
            [
             0.5555555555555556,
             "#d8576b"
            ],
            [
             0.6666666666666666,
             "#ed7953"
            ],
            [
             0.7777777777777778,
             "#fb9f3a"
            ],
            [
             0.8888888888888888,
             "#fdca26"
            ],
            [
             1,
             "#f0f921"
            ]
           ],
           "sequentialminus": [
            [
             0,
             "#0d0887"
            ],
            [
             0.1111111111111111,
             "#46039f"
            ],
            [
             0.2222222222222222,
             "#7201a8"
            ],
            [
             0.3333333333333333,
             "#9c179e"
            ],
            [
             0.4444444444444444,
             "#bd3786"
            ],
            [
             0.5555555555555556,
             "#d8576b"
            ],
            [
             0.6666666666666666,
             "#ed7953"
            ],
            [
             0.7777777777777778,
             "#fb9f3a"
            ],
            [
             0.8888888888888888,
             "#fdca26"
            ],
            [
             1,
             "#f0f921"
            ]
           ]
          },
          "colorway": [
           "#636efa",
           "#EF553B",
           "#00cc96",
           "#ab63fa",
           "#FFA15A",
           "#19d3f3",
           "#FF6692",
           "#B6E880",
           "#FF97FF",
           "#FECB52"
          ],
          "font": {
           "color": "#2a3f5f"
          },
          "geo": {
           "bgcolor": "white",
           "lakecolor": "white",
           "landcolor": "#E5ECF6",
           "showlakes": true,
           "showland": true,
           "subunitcolor": "white"
          },
          "hoverlabel": {
           "align": "left"
          },
          "hovermode": "closest",
          "mapbox": {
           "style": "light"
          },
          "paper_bgcolor": "white",
          "plot_bgcolor": "#E5ECF6",
          "polar": {
           "angularaxis": {
            "gridcolor": "white",
            "linecolor": "white",
            "ticks": ""
           },
           "bgcolor": "#E5ECF6",
           "radialaxis": {
            "gridcolor": "white",
            "linecolor": "white",
            "ticks": ""
           }
          },
          "scene": {
           "xaxis": {
            "backgroundcolor": "#E5ECF6",
            "gridcolor": "white",
            "gridwidth": 2,
            "linecolor": "white",
            "showbackground": true,
            "ticks": "",
            "zerolinecolor": "white"
           },
           "yaxis": {
            "backgroundcolor": "#E5ECF6",
            "gridcolor": "white",
            "gridwidth": 2,
            "linecolor": "white",
            "showbackground": true,
            "ticks": "",
            "zerolinecolor": "white"
           },
           "zaxis": {
            "backgroundcolor": "#E5ECF6",
            "gridcolor": "white",
            "gridwidth": 2,
            "linecolor": "white",
            "showbackground": true,
            "ticks": "",
            "zerolinecolor": "white"
           }
          },
          "shapedefaults": {
           "line": {
            "color": "#2a3f5f"
           }
          },
          "ternary": {
           "aaxis": {
            "gridcolor": "white",
            "linecolor": "white",
            "ticks": ""
           },
           "baxis": {
            "gridcolor": "white",
            "linecolor": "white",
            "ticks": ""
           },
           "bgcolor": "#E5ECF6",
           "caxis": {
            "gridcolor": "white",
            "linecolor": "white",
            "ticks": ""
           }
          },
          "title": {
           "x": 0.05
          },
          "xaxis": {
           "automargin": true,
           "gridcolor": "white",
           "linecolor": "white",
           "ticks": "",
           "title": {
            "standoff": 15
           },
           "zerolinecolor": "white",
           "zerolinewidth": 2
          },
          "yaxis": {
           "automargin": true,
           "gridcolor": "white",
           "linecolor": "white",
           "ticks": "",
           "title": {
            "standoff": 15
           },
           "zerolinecolor": "white",
           "zerolinewidth": 2
          }
         }
        },
        "title": {
         "text": "Daily High and Low Temperatures at Mill D North, Big Cottonwood Canyon, UT (Winter 2023/2024)"
        },
        "xaxis": {
         "anchor": "y",
         "domain": [
          0,
          1
         ],
         "title": {
          "text": "Date"
         }
        },
        "yaxis": {
         "anchor": "x",
         "domain": [
          0,
          1
         ],
         "title": {
          "text": "Temperature (°C)"
         }
        },
        "yaxis2": {
         "overlaying": "y",
         "showgrid": false,
         "side": "right",
         "title": {
          "text": "Snow Depth (cm)"
         },
         "zeroline": false
        }
       }
      },
      "image/png": "[encoded data removed]"
     },
     "metadata": {},
     "output_type": "display_data"
    }
   ],
   "source": [
    "fig = px.line(\n",
    "    winter_2024,\n",
    "    x=\"DATE\",\n",
    "    y=[\"TMIN\", \"TMAX\"],\n",
    "    labels={\"value\": \"Temperature (°C)\", \"variable\": \"Temperature Type\"},\n",
    "    title=\"Daily High and Low Temperatures at Mill D North, Big Cottonwood Canyon, UT (Winter 2023/2024)\",\n",
    ")\n",
    "fig.update_layout(\n",
    "    xaxis_title=\"Date\",\n",
    "    yaxis_title=\"Temperature (°C)\",\n",
    "    legend_title=\"Temperature Type\",\n",
    ")\n",
    "\n",
    "# Add snow depth on secondary y-axis\n",
    "fig.add_scatter(\n",
    "    x=winter_2024[\"DATE\"],\n",
    "    y=winter_2024[\"SNWD\"],\n",
    "    mode=\"markers\",\n",
    "    name=\"Snow Depth (cm)\",\n",
    "    yaxis=\"y2\",  # Use a secondary y-axis for snow depth\n",
    ")\n",
    "\n",
    "fig.update_layout(\n",
    "    yaxis2=dict(\n",
    "        title=\"Snow Depth (cm)\",\n",
    "        overlaying=\"y\",\n",
    "        side=\"right\",\n",
    "        showgrid=False,\n",
    "        zeroline=False,\n",
    "    )\n",
    ")\n",
    "\n",
    "fig.show()"
   ]
  },
  {
   "cell_type": "markdown",
   "metadata": {},
   "source": [
    "And you can start to see that when the temperatures get high, then the snow depth starts to decrease and when temps get low, the snow depth seems to go up. And then we could calculate the **change** in snowdepth relative to temperature and blah, blah, blah. This is just the README file right? It shows how you can use the ncei_access package to get weather data and start doing your own analysis."
   ]
  }
 ],
 "metadata": {
  "kernelspec": {
   "display_name": "Python 3 (ipykernel)",
   "language": "python",
   "name": "python3"
  },
  "language_info": {
   "codemirror_mode": {
    "name": "ipython",
    "version": 3
   },
   "file_extension": ".py",
   "mimetype": "text/x-python",
   "name": "python",
   "nbconvert_exporter": "python",
   "pygments_lexer": "ipython3",
   "version": "3.12.1"
  }
 },
 "nbformat": 4,
 "nbformat_minor": 4
}
